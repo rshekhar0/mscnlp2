{
 "cells": [
  {
   "cell_type": "code",
   "execution_count": 1,
   "id": "99c8680d-8e37-4af3-b5d9-ffefc131c0ce",
   "metadata": {},
   "outputs": [
    {
     "name": "stderr",
     "output_type": "stream",
     "text": [
      "[nltk_data] Downloading package punkt to\n",
      "[nltk_data]     C:\\Users\\rshek\\AppData\\Roaming\\nltk_data...\n",
      "[nltk_data]   Package punkt is already up-to-date!\n",
      "[nltk_data] Downloading package averaged_perceptron_tagger to\n",
      "[nltk_data]     C:\\Users\\rshek\\AppData\\Roaming\\nltk_data...\n",
      "[nltk_data]   Package averaged_perceptron_tagger is already up-to-\n",
      "[nltk_data]       date!\n",
      "[nltk_data] Downloading package maxent_ne_chunker to\n",
      "[nltk_data]     C:\\Users\\rshek\\AppData\\Roaming\\nltk_data...\n",
      "[nltk_data]   Unzipping chunkers\\maxent_ne_chunker.zip.\n",
      "[nltk_data] Downloading package words to\n",
      "[nltk_data]     C:\\Users\\rshek\\AppData\\Roaming\\nltk_data...\n",
      "[nltk_data]   Package words is already up-to-date!\n"
     ]
    },
    {
     "name": "stdout",
     "output_type": "stream",
     "text": [
      "\n",
      "sentence tokenization\n",
      "===================\n",
      " ['Hello!', 'My name is Rahul Yadav.', \"Today you'll be learning NLTK.\"]\n",
      "\n",
      "word tokenization\n",
      "===================\n",
      "\n",
      "['Hello', '!']\n",
      "['My', 'name', 'is', 'Rahul', 'Yadav', '.']\n",
      "['Today', 'you', \"'ll\", 'be', 'learning', 'NLTK', '.']\n",
      "\n",
      "POS Tagging\n",
      "===========\n",
      " [[('Today', 'NN'), ('you', 'PRP'), (\"'ll\", 'MD'), ('be', 'VB'), ('learning', 'VBG'), ('NLTK', 'NNP'), ('.', '.')], [('Today', 'NN'), ('you', 'PRP'), (\"'ll\", 'MD'), ('be', 'VB'), ('learning', 'VBG'), ('NLTK', 'NNP'), ('.', '.')], [('Today', 'NN'), ('you', 'PRP'), (\"'ll\", 'MD'), ('be', 'VB'), ('learning', 'VBG'), ('NLTK', 'NNP'), ('.', '.')]]\n",
      "\n",
      "chunking\n",
      "========\n",
      " [Tree('S', [('Today', 'NN'), ('you', 'PRP'), (\"'ll\", 'MD'), ('be', 'VB'), ('learning', 'VBG'), Tree('ORGANIZATION', [('NLTK', 'NNP')]), ('.', '.')]), Tree('S', [('Today', 'NN'), ('you', 'PRP'), (\"'ll\", 'MD'), ('be', 'VB'), ('learning', 'VBG'), Tree('ORGANIZATION', [('NLTK', 'NNP')]), ('.', '.')]), Tree('S', [('Today', 'NN'), ('you', 'PRP'), (\"'ll\", 'MD'), ('be', 'VB'), ('learning', 'VBG'), Tree('ORGANIZATION', [('NLTK', 'NNP')]), ('.', '.')])]\n"
     ]
    }
   ],
   "source": [
    "import nltk\n",
    "from nltk import tokenize\n",
    "from nltk import tag\n",
    "from nltk import chunk\n",
    "\n",
    "nltk.download('punkt')\n",
    "nltk.download('averaged_perceptron_tagger')\n",
    "nltk.download('maxent_ne_chunker')\n",
    "nltk.download('words')\n",
    "\n",
    "# Paragraph to be tokenized\n",
    "para = \"Hello! My name is Rahul Yadav. Today you'll be learning NLTK.\"\n",
    "\n",
    "# Sentence tokenization\n",
    "sents = tokenize.sent_tokenize(para)\n",
    "print(\"\\nsentence tokenization\\n===================\\n\", sents)\n",
    "\n",
    "# Word tokenization\n",
    "print(\"\\nword tokenization\\n===================\\n\")\n",
    "for index in range(len(sents)):\n",
    "    words = tokenize.word_tokenize(sents[index])\n",
    "    print(words)\n",
    "\n",
    "# POS Tagging\n",
    "tagged_words = []\n",
    "for index in range(len(sents)):\n",
    "    tagged_words.append(tag.pos_tag(words))\n",
    "print(\"\\nPOS Tagging\\n===========\\n\", tagged_words)\n",
    "\n",
    "# Chunking\n",
    "tree = []\n",
    "for index in range(len(sents)):\n",
    "    tree.append(chunk.ne_chunk(tagged_words[index]))\n",
    "print(\"\\nchunking\\n========\\n\", tree)\n"
   ]
  },
  {
   "cell_type": "code",
   "execution_count": null,
   "id": "71ee4b3a-82ad-4ff0-a3c0-1ed728d282a2",
   "metadata": {},
   "outputs": [],
   "source": []
  }
 ],
 "metadata": {
  "kernelspec": {
   "display_name": "Python 3 (ipykernel)",
   "language": "python",
   "name": "python3"
  },
  "language_info": {
   "codemirror_mode": {
    "name": "ipython",
    "version": 3
   },
   "file_extension": ".py",
   "mimetype": "text/x-python",
   "name": "python",
   "nbconvert_exporter": "python",
   "pygments_lexer": "ipython3",
   "version": "3.8.2"
  }
 },
 "nbformat": 4,
 "nbformat_minor": 5
}
