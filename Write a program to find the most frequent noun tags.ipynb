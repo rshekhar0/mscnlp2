{
 "cells": [
  {
   "cell_type": "code",
   "execution_count": 2,
   "id": "74944f05-5cfc-4e45-9b9f-7c4edf70514c",
   "metadata": {},
   "outputs": [
    {
     "name": "stdout",
     "output_type": "stream",
     "text": [
      "[('Rahul', 'NNP'), ('likes', 'VBZ'), ('to', 'TO'), ('play', 'VB'), ('football', 'NN'), ('.', '.'), ('Rahul', 'NNP'), ('does', 'VBZ'), ('not', 'RB'), ('like', 'VB'), ('to', 'TO'), ('play', 'VB'), ('cricket', 'NN'), ('.', '.')]\n",
      "['Rahul', 'football', 'Rahul', 'cricket']\n",
      "Word with maximum frequency : Rahul\n"
     ]
    },
    {
     "name": "stderr",
     "output_type": "stream",
     "text": [
      "[nltk_data] Downloading package averaged_perceptron_tagger to\n",
      "[nltk_data]     C:\\Users\\rshek\\AppData\\Roaming\\nltk_data...\n",
      "[nltk_data]   Package averaged_perceptron_tagger is already up-to-\n",
      "[nltk_data]       date!\n"
     ]
    }
   ],
   "source": [
    "import nltk\n",
    "from collections import defaultdict\n",
    "\n",
    "nltk.download('averaged_perceptron_tagger')\n",
    "\n",
    "text = nltk.word_tokenize(\"Rahul likes to play football. Rahul does not like to play cricket.\")\n",
    "tagged = nltk.pos_tag(text)\n",
    "print(tagged)\n",
    "\n",
    "addNounWords = []\n",
    "count = 0\n",
    "\n",
    "for words in tagged:\n",
    "    val = tagged[count][1]\n",
    "    if val in ('NN', 'NNS', 'NNPS', 'NNP'):\n",
    "        addNounWords.append(tagged[count][0])\n",
    "    count += 1\n",
    "\n",
    "print(addNounWords)\n",
    "\n",
    "temp = defaultdict(int)\n",
    "\n",
    "# Memoizing count\n",
    "for sub in addNounWords:\n",
    "    for wrd in sub.split():\n",
    "        temp[wrd] += 1\n",
    "\n",
    "# Getting max frequency\n",
    "res = max(temp, key=temp.get)\n",
    "\n",
    "# Printing result\n",
    "print(\"Word with maximum frequency : \" + str(res))\n"
   ]
  }
 ],
 "metadata": {
  "kernelspec": {
   "display_name": "Python 3 (ipykernel)",
   "language": "python",
   "name": "python3"
  },
  "language_info": {
   "codemirror_mode": {
    "name": "ipython",
    "version": 3
   },
   "file_extension": ".py",
   "mimetype": "text/x-python",
   "name": "python",
   "nbconvert_exporter": "python",
   "pygments_lexer": "ipython3",
   "version": "3.8.2"
  }
 },
 "nbformat": 4,
 "nbformat_minor": 5
}
