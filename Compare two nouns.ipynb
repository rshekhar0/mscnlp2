{
 "cells": [
  {
   "cell_type": "code",
   "execution_count": 7,
   "id": "f8df9016-3fbe-458a-9cb9-7e2d35fdcb86",
   "metadata": {},
   "outputs": [
    {
     "name": "stdout",
     "output_type": "stream",
     "text": [
      "Path similarity of: \n",
      "Synset('football.n.01') ( n ) [ any of various games played with a ball (round or oval) in which two teams try to kick or carry or propel the ball into each other's goal ]\n",
      "Synset('soccer.n.01') ( n ) [ a football game in which two teams of 11 players try to kick or head a ball into the opponents' goal ]\n",
      "   is 0.5\n",
      "\n",
      "Path similarity of: \n",
      "Synset('football.n.02') ( n ) [ the inflated oblong ball used in playing American football ]\n",
      "Synset('soccer.n.01') ( n ) [ a football game in which two teams of 11 players try to kick or head a ball into the opponents' goal ]\n",
      "   is 0.05\n",
      "\n"
     ]
    }
   ],
   "source": [
    "import nltk\n",
    "from nltk.corpus import wordnet\n",
    "\n",
    "# Words to compare\n",
    "noun1 = 'football'\n",
    "noun2 = 'soccer'\n",
    "\n",
    "# Get synsets for the words\n",
    "syn1 = wordnet.synsets(noun1)\n",
    "syn2 = wordnet.synsets(noun2)\n",
    "\n",
    "# Compare each synset of noun1 with each synset of noun2\n",
    "for s1 in syn1:\n",
    "    for s2 in syn2:\n",
    "        print(\"Path similarity of: \")\n",
    "        print(s1, '(', s1.pos(), ')', '[', s1.definition(), ']')\n",
    "        print(s2, '(', s2.pos(), ')', '[', s2.definition(), ']')\n",
    "        path_similarity_score = s1.path_similarity(s2)\n",
    "        print(\"   is\", path_similarity_score)\n",
    "        print()\n",
    "        "
   ]
  }
 ],
 "metadata": {
  "kernelspec": {
   "display_name": "Python 3 (ipykernel)",
   "language": "python",
   "name": "python3"
  },
  "language_info": {
   "codemirror_mode": {
    "name": "ipython",
    "version": 3
   },
   "file_extension": ".py",
   "mimetype": "text/x-python",
   "name": "python",
   "nbconvert_exporter": "python",
   "pygments_lexer": "ipython3",
   "version": "3.8.2"
  }
 },
 "nbformat": 4,
 "nbformat_minor": 5
}
