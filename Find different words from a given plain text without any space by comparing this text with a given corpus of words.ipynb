{
 "cells": [
  {
   "cell_type": "code",
   "execution_count": 2,
   "id": "f1f9b6da-8858-4b5f-b614-901bf6643637",
   "metadata": {},
   "outputs": [
    {
     "name": "stdout",
     "output_type": "stream",
     "text": [
      "MENU\n",
      "-----------\n",
      " 1. Hash tag segmentation\n",
      " 2. URL segmentation\n"
     ]
    },
    {
     "name": "stdin",
     "output_type": "stream",
     "text": [
      "Enter the input choice for performing word segmentation:  2\n"
     ]
    },
    {
     "name": "stdout",
     "output_type": "stream",
     "text": [
      "Input with URL: www.whatismyname.com\n",
      "Processed Input: whatismyname\n",
      "what - appears in the corpus\n",
      "is - appears in the corpus\n",
      "my - appears in the corpus\n",
      "name - appears in the corpus\n",
      "Output\n",
      "---------\n",
      "what is my name\n",
      "Score: 4.0\n"
     ]
    }
   ],
   "source": [
    "from __future__ import with_statement\n",
    "import re\n",
    "\n",
    "# Function to perform segmentation\n",
    "def Seg(a, length, words):\n",
    "    ans = []\n",
    "    for k in range(0, length + 1):  # Check each substring of 'a' against the corpus\n",
    "        if a[0:k] in words:\n",
    "            print(a[0:k], \"- appears in the corpus\")\n",
    "            ans.append(a[0:k])\n",
    "            break\n",
    "    if ans:\n",
    "        return max(ans, key=len)  # Return the longest matching word\n",
    "    return \"\"\n",
    "\n",
    "def main():\n",
    "    words = []  # Corpus words\n",
    "    testword = []  # Test words\n",
    "    answer = []  # Words that match with the corpus\n",
    "\n",
    "    # Display menu\n",
    "    print(\"MENU\")\n",
    "    print(\"-----------\")\n",
    "    print(\" 1. Hash tag segmentation\")\n",
    "    print(\" 2. URL segmentation\")\n",
    "    choice = int(input(\"Enter the input choice for performing word segmentation: \"))\n",
    "\n",
    "    if choice == 1:\n",
    "        text = \"#whatismyname\"  # Hashtag test data to segment\n",
    "        print(\"Input with HashTag:\", text)\n",
    "        pattern = re.compile(\"[^\\w']\")\n",
    "        a = pattern.sub('', text)\n",
    "    elif choice == 2:\n",
    "        text = \"www.whatismyname.com\"  # URL test data to segment\n",
    "        print(\"Input with URL:\", text)\n",
    "        a = re.split('\\s|(?<!\\d)[,.](?!\\d)', text)\n",
    "        splitwords = [\"www\", \"com\", \"in\"]  # Remove common URL components\n",
    "        a = \"\".join([each for each in a if each not in splitwords])\n",
    "    else:\n",
    "        print(\"Wrong choice...try again\")\n",
    "        return\n",
    "\n",
    "    print(\"Processed Input:\", a)\n",
    "\n",
    "    # Convert processed input to a list of characters\n",
    "    testword = list(a)\n",
    "    test_length = len(testword)  # Length of the test data\n",
    "\n",
    "    # Reading the corpus from 'words.txt'\n",
    "    with open('words.txt', 'r') as f:\n",
    "        lines = f.readlines()\n",
    "        words = [e.strip() for e in lines]\n",
    "\n",
    "    test_total_itr = 0  # Current position in the input string\n",
    "\n",
    "    # Perform segmentation\n",
    "    while test_total_itr < test_length:\n",
    "        ans_word = Seg(a, test_length, words)\n",
    "        if ans_word:\n",
    "            answer.append(ans_word)\n",
    "            a = a[len(ans_word):]  # Remove the segmented part from the input\n",
    "            test_total_itr += len(ans_word)\n",
    "\n",
    "    # Join segmented words into a single string\n",
    "    segmented_output = \" \".join(answer)\n",
    "\n",
    "    # Output the results\n",
    "    print(\"Output\")\n",
    "    print(\"---------\")\n",
    "    print(segmented_output)\n",
    "\n",
    "    # Calculate and display the score\n",
    "    N = 37  # Total number of words in the corpus (example value)\n",
    "    C = len(answer)\n",
    "    score = C * N / N  # Simplified score calculation\n",
    "    print(\"Score:\", score)\n",
    "\n",
    "# Run the main function\n",
    "if __name__ == \"__main__\":\n",
    "    main()\n"
   ]
  },
  {
   "cell_type": "code",
   "execution_count": null,
   "id": "68a4d19c-2289-4256-9287-6901d31e8cde",
   "metadata": {},
   "outputs": [],
   "source": []
  }
 ],
 "metadata": {
  "kernelspec": {
   "display_name": "Python 3 (ipykernel)",
   "language": "python",
   "name": "python3"
  },
  "language_info": {
   "codemirror_mode": {
    "name": "ipython",
    "version": 3
   },
   "file_extension": ".py",
   "mimetype": "text/x-python",
   "name": "python",
   "nbconvert_exporter": "python",
   "pygments_lexer": "ipython3",
   "version": "3.8.2"
  }
 },
 "nbformat": 4,
 "nbformat_minor": 5
}
