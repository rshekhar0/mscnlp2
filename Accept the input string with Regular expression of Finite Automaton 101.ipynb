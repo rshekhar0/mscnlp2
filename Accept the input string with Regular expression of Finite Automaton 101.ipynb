{
 "cells": [
  {
   "cell_type": "code",
   "execution_count": 1,
   "id": "2f7c466d-e077-498e-9f68-433e2843834a",
   "metadata": {},
   "outputs": [
    {
     "name": "stdout",
     "output_type": "stream",
     "text": [
      "Rejected\n",
      "Rejected\n",
      "Accepted\n",
      "Accepted\n",
      "Rejected\n",
      "Rejected\n",
      "Rejected\n",
      "Rejected\n",
      "Accepted\n"
     ]
    }
   ],
   "source": [
    "def FA(s):\n",
    "    # if the length is less than 3 then it can't be accepted, Therefore end the process.\n",
    "    if len(s) < 3:\n",
    "        return \"Rejected\"\n",
    "    if s[0] == '1':\n",
    "        if s[1] == '0':\n",
    "            if s[2] == '1':\n",
    "                for i in range(3, len(s)):\n",
    "                    if s[i] != '1':\n",
    "                        return \"Rejected\"\n",
    "                return \"Accepted\"  #if all 4 nested if true\n",
    "            return \"Rejected\"  # else of 3rd if\n",
    "        return \"Rejected\"  # else of 2nd if\n",
    "    return \"Rejected\"  # else of 1st if\n",
    "\n",
    "inputs = ['1', '10101', '101', '10111', '01010', '100', '', '10111101', '1011111']\n",
    "for i in inputs:\n",
    "    print(FA(i))\n"
   ]
  },
  {
   "cell_type": "code",
   "execution_count": null,
   "id": "7aa2bd1e-ddae-40fc-8ccf-e22b21566aec",
   "metadata": {},
   "outputs": [],
   "source": []
  }
 ],
 "metadata": {
  "kernelspec": {
   "display_name": "Python 3 (ipykernel)",
   "language": "python",
   "name": "python3"
  },
  "language_info": {
   "codemirror_mode": {
    "name": "ipython",
    "version": 3
   },
   "file_extension": ".py",
   "mimetype": "text/x-python",
   "name": "python",
   "nbconvert_exporter": "python",
   "pygments_lexer": "ipython3",
   "version": "3.8.2"
  }
 },
 "nbformat": 4,
 "nbformat_minor": 5
}
