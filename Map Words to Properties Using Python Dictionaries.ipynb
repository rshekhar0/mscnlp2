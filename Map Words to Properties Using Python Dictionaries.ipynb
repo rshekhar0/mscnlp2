{
 "cells": [
  {
   "cell_type": "code",
   "execution_count": 1,
   "id": "5ddbbe40-7178-4577-b64d-fc880a3c3611",
   "metadata": {},
   "outputs": [
    {
     "name": "stdout",
     "output_type": "stream",
     "text": [
      "{'brand': 'Ford', 'model': 'Mustang', 'year': 1964}\n",
      "Ford\n",
      "3\n",
      "<class 'dict'>\n"
     ]
    }
   ],
   "source": [
    "# Creating and printing a dictionary by mapping word with its properties\n",
    "thisdict = {\n",
    "    \"brand\": \"Ford\",\n",
    "    \"model\": \"Mustang\",\n",
    "    \"year\": 1964\n",
    "}\n",
    "\n",
    "print(thisdict)\n",
    "print(thisdict[\"brand\"])\n",
    "print(len(thisdict))\n",
    "print(type(thisdict))\n"
   ]
  },
  {
   "cell_type": "code",
   "execution_count": null,
   "id": "d4e2cd8c-d1bb-4f59-8797-991cd6092ba6",
   "metadata": {},
   "outputs": [],
   "source": []
  }
 ],
 "metadata": {
  "kernelspec": {
   "display_name": "Python 3 (ipykernel)",
   "language": "python",
   "name": "python3"
  },
  "language_info": {
   "codemirror_mode": {
    "name": "ipython",
    "version": 3
   },
   "file_extension": ".py",
   "mimetype": "text/x-python",
   "name": "python",
   "nbconvert_exporter": "python",
   "pygments_lexer": "ipython3",
   "version": "3.8.2"
  }
 },
 "nbformat": 4,
 "nbformat_minor": 5
}
