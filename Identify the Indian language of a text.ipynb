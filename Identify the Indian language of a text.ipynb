{
 "cells": [
  {
   "cell_type": "code",
   "execution_count": null,
   "id": "10bc9d51-2b5a-404b-88d5-2f3282f7c4f3",
   "metadata": {},
   "outputs": [],
   "source": [
    "!pip install langid"
   ]
  },
  {
   "cell_type": "code",
   "execution_count": 4,
   "id": "84ae5dfb-e904-4b03-bdac-247039605543",
   "metadata": {},
   "outputs": [
    {
     "name": "stdout",
     "output_type": "stream",
     "text": [
      "Identified language: hi\n"
     ]
    },
    {
     "name": "stderr",
     "output_type": "stream",
     "text": [
      "[nltk_data] Downloading package punkt to\n",
      "[nltk_data]     C:\\Users\\rshek\\AppData\\Roaming\\nltk_data...\n",
      "[nltk_data]   Package punkt is already up-to-date!\n"
     ]
    }
   ],
   "source": [
    "import nltk\n",
    "import langid\n",
    " \n",
    "# Download necessary NLTK data\n",
    "nltk.download('punkt')\n",
    " \n",
    "def identify_language(text):\n",
    "    lang, _ = langid.classify(text)\n",
    "    return lang\n",
    " \n",
    "# Identify the Indian Language from the given text\n",
    "language = identify_language(\"नमस्ते, आप कैसे हैं?\")\n",
    "print(\"Identified language:\", language)\n"
   ]
  },
  {
   "cell_type": "code",
   "execution_count": null,
   "id": "cc73df3c-29e7-414e-b527-0c985b28f8f2",
   "metadata": {},
   "outputs": [],
   "source": []
  }
 ],
 "metadata": {
  "kernelspec": {
   "display_name": "Python 3 (ipykernel)",
   "language": "python",
   "name": "python3"
  },
  "language_info": {
   "codemirror_mode": {
    "name": "ipython",
    "version": 3
   },
   "file_extension": ".py",
   "mimetype": "text/x-python",
   "name": "python",
   "nbconvert_exporter": "python",
   "pygments_lexer": "ipython3",
   "version": "3.8.2"
  }
 },
 "nbformat": 4,
 "nbformat_minor": 5
}
