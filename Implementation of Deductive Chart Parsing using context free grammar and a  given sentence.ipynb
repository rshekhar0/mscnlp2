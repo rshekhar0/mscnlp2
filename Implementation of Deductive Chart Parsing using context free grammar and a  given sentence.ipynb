{
 "cells": [
  {
   "cell_type": "code",
   "execution_count": null,
   "id": "586f4b0b-0a13-48bb-b265-59b42e4401d0",
   "metadata": {},
   "outputs": [],
   "source": [
    "#!pip install nltk"
   ]
  },
  {
   "cell_type": "code",
   "execution_count": 1,
   "id": "5699703e-c734-4902-b04c-070fa50a3b81",
   "metadata": {},
   "outputs": [
    {
     "name": "stdout",
     "output_type": "stream",
     "text": [
      "['I', 'saw', 'a', 'bird', 'in', 'my', 'balcony']\n",
      "(S\n",
      "  (NP I)\n",
      "  (VP\n",
      "    (VP (V saw) (NP (Det a) (N bird)))\n",
      "    (PP (P in) (NP (Det my) (N balcony)))))\n",
      "     S                                  \n",
      "  ___|___________                        \n",
      " |               VP                     \n",
      " |        _______|________               \n",
      " |       VP               PP            \n",
      " |    ___|___          ___|___           \n",
      " |   |       NP       |       NP        \n",
      " |   |    ___|___     |    ___|_____     \n",
      " NP  V  Det      N    P  Det        N   \n",
      " |   |   |       |    |   |         |    \n",
      " I  saw  a      bird  in  my     balcony\n",
      "\n",
      "(S\n",
      "  (NP I)\n",
      "  (VP\n",
      "    (V saw)\n",
      "    (NP (Det a) (N bird) (PP (P in) (NP (Det my) (N balcony))))))\n",
      "     S                              \n",
      "  ___|_______                        \n",
      " |           VP                     \n",
      " |    _______|____                   \n",
      " |   |            NP                \n",
      " |   |    ________|___               \n",
      " |   |   |   |        PP            \n",
      " |   |   |   |     ___|___           \n",
      " |   |   |   |    |       NP        \n",
      " |   |   |   |    |    ___|_____     \n",
      " NP  V  Det  N    P  Det        N   \n",
      " |   |   |   |    |   |         |    \n",
      " I  saw  a  bird  in  my     balcony\n",
      "\n"
     ]
    }
   ],
   "source": [
    "#nltk.download('punkt')\n",
    "import nltk\n",
    "from nltk import tokenize\n",
    "grammar1 = nltk.CFG.fromstring(\"\"\"\n",
    "  S -> NP VP\n",
    "  PP -> P NP\n",
    "  NP -> Det N | Det N PP | 'I'\n",
    "  VP -> V NP | VP PP\n",
    "  Det -> 'a' | 'my'\n",
    "  N -> 'bird' | 'balcony'\n",
    "  V -> 'saw'\n",
    "  P -> 'in'\n",
    "  \"\"\")\n",
    "sentence = \"I saw a bird in my balcony\"\n",
    "for index in range(len(sentence)):\n",
    "  all_tokens = tokenize.word_tokenize(sentence)\n",
    "print(all_tokens)\n",
    "# all_tokens = ['I', 'saw', 'a', 'bird', 'in', 'my', 'balcony']\n",
    "parser = nltk.ChartParser(grammar1)\n",
    "for tree in parser.parse(all_tokens):\n",
    "  print(tree)\n",
    "  tree.pretty_print()\n"
   ]
  },
  {
   "cell_type": "code",
   "execution_count": null,
   "id": "35ae2825-128c-450d-8fb2-47031afa5312",
   "metadata": {},
   "outputs": [],
   "source": [
    "#optional code"
   ]
  },
  {
   "cell_type": "code",
   "execution_count": null,
   "id": "b682bce0-9b96-415e-992c-c6a51516427a",
   "metadata": {},
   "outputs": [],
   "source": [
    "import nltk \n",
    "from nltk import tokenize \n",
    "\n",
    "# Define the grammar\n",
    "grammar1 = nltk.CFG.fromstring(\"\"\" \n",
    "S -> NP VP \n",
    "PP -> P NP \n",
    "NP -> Det N | Det N PP | 'I' \n",
    "VP -> V NP | VP PP \n",
    "Det -> 'a' | 'my' \n",
    "N -> 'bird' | 'balcony' \n",
    "V -> 'saw' \n",
    "P -> 'in' \n",
    "\"\"\") \n",
    "\n",
    "# Sentence to be parsed\n",
    "sentence = \"I saw a bird in my balcony\"\n",
    "\n",
    "# Tokenize the sentence\n",
    "all_tokens = tokenize.word_tokenize(sentence)\n",
    "print(all_tokens) \n",
    "# all_tokens = ['I', 'saw', 'a', 'bird', 'in', 'my', 'balcony'] \n",
    "\n",
    "# Parse the sentence\n",
    "parser = nltk.ChartParser(grammar1) \n",
    "for tree in parser.parse(all_tokens): \n",
    "    print(tree)\n",
    "    tree.draw() \n"
   ]
  },
  {
   "cell_type": "code",
   "execution_count": null,
   "id": "e5301cbb-939a-4969-ba93-6a57e31c43a8",
   "metadata": {},
   "outputs": [],
   "source": []
  }
 ],
 "metadata": {
  "kernelspec": {
   "display_name": "Python 3 (ipykernel)",
   "language": "python",
   "name": "python3"
  },
  "language_info": {
   "codemirror_mode": {
    "name": "ipython",
    "version": 3
   },
   "file_extension": ".py",
   "mimetype": "text/x-python",
   "name": "python",
   "nbconvert_exporter": "python",
   "pygments_lexer": "ipython3",
   "version": "3.8.2"
  }
 },
 "nbformat": 4,
 "nbformat_minor": 5
}
