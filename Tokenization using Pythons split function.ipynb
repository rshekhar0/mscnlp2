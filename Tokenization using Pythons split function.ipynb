{
 "cells": [
  {
   "cell_type": "code",
   "execution_count": 5,
   "id": "eeedc168-3a71-4c25-a7b5-3b4b2096e84f",
   "metadata": {},
   "outputs": [
    {
     "name": "stdout",
     "output_type": "stream",
     "text": [
      "============================================================\n",
      "Tokenization using Python’s split() function\n",
      "----------\n",
      "Tokens: ['Hello', '!', 'My', 'name', 'is', 'Rahul', 'Yadav', 'I', 'live', 'in', 'mumbai']\n",
      "============================================================\n"
     ]
    }
   ],
   "source": [
    "# Sample text to tokenize\n",
    "text = \"Hello ! My name is Rahul Yadav I live in mumbai\"\n",
    "\n",
    "# Tokenizing the text using split()\n",
    "tokens = text.split()\n",
    "\n",
    "# Printing the tokens\n",
    "print(\"=\"*60)\n",
    "print(\"Tokenization using Python’s split() function\")\n",
    "print(\"-\"*10)\n",
    "print(\"Tokens:\", tokens)\n",
    "print(\"=\"*60)\n"
   ]
  },
  {
   "cell_type": "code",
   "execution_count": null,
   "id": "252f50f8-dbf4-4f8a-a355-6b6c5206b12f",
   "metadata": {},
   "outputs": [],
   "source": []
  }
 ],
 "metadata": {
  "kernelspec": {
   "display_name": "Python 3 (ipykernel)",
   "language": "python",
   "name": "python3"
  },
  "language_info": {
   "codemirror_mode": {
    "name": "ipython",
    "version": 3
   },
   "file_extension": ".py",
   "mimetype": "text/x-python",
   "name": "python",
   "nbconvert_exporter": "python",
   "pygments_lexer": "ipython3",
   "version": "3.8.2"
  }
 },
 "nbformat": 4,
 "nbformat_minor": 5
}
