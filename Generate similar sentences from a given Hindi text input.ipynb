{
 "cells": [
  {
   "cell_type": "code",
   "execution_count": null,
   "id": "466f4073-c996-4585-8343-37b60d9ca37d",
   "metadata": {},
   "outputs": [],
   "source": [
    "#optional\n",
    "#!pip install torch==1.3.1+cpu -f https://download.pytorch.org/whl/torch_stable.html \n",
    "#!pip install inltk \n",
    "#!pip install tornado==4.5.3 "
   ]
  },
  {
   "cell_type": "code",
   "execution_count": 3,
   "id": "e7b5695f-9f6c-4171-b51e-83e7f2820a65",
   "metadata": {},
   "outputs": [
    {
     "name": "stdout",
     "output_type": "stream",
     "text": [
      "Original sentence: मैं आज बहुत खुश हूँ।\n",
      "Similar sentences:\n",
      "- मैं आज बहुत प्रसन्न हूँ।\n",
      "- मैं आज बहुत आनंदित हूँ।\n",
      "- मैं आज बहुत खुशी हूँ।\n",
      "- मैं आज अधिक खुश हूँ।\n",
      "- मैं आज बहुत ज्यादा खुश हूँ।\n"
     ]
    }
   ],
   "source": [
    "synonyms = {\n",
    "    \"खुश\": [\"प्रसन्न\", \"आनंदित\", \"खुशी\"],\n",
    "    \"बहुत\": [\"अधिक\", \"बहुत ज्यादा\", \"काफी\"]\n",
    "}\n",
    " \n",
    "# Function to generate similar sentences by replacing some words with synonyms\n",
    "def generate_similar_sentences(input_sentence, num_sentences=5):\n",
    "    similar_sentences = []\n",
    " \n",
    "    # Replace some words with synonyms \n",
    "    for word, word_synonyms in synonyms.items():\n",
    "        for synonym in word_synonyms:\n",
    "            modified_sentence = input_sentence.replace(word, synonym)\n",
    "            similar_sentences.append(modified_sentence)\n",
    "    return similar_sentences[:num_sentences]\n",
    " \n",
    "input_sentence = \"मैं आज बहुत खुश हूँ।\"\n",
    "similar_sentences = generate_similar_sentences(input_sentence)\n",
    "print(\"Original sentence:\", input_sentence)\n",
    "print(\"Similar sentences:\")\n",
    "for sentence in similar_sentences:\n",
    "    print(\"-\", sentence)\n"
   ]
  },
  {
   "cell_type": "code",
   "execution_count": null,
   "id": "a20ca699-d555-41e8-953c-16bfa83233b7",
   "metadata": {},
   "outputs": [],
   "source": []
  }
 ],
 "metadata": {
  "kernelspec": {
   "display_name": "Python 3 (ipykernel)",
   "language": "python",
   "name": "python3"
  },
  "language_info": {
   "codemirror_mode": {
    "name": "ipython",
    "version": 3
   },
   "file_extension": ".py",
   "mimetype": "text/x-python",
   "name": "python",
   "nbconvert_exporter": "python",
   "pygments_lexer": "ipython3",
   "version": "3.8.2"
  }
 },
 "nbformat": 4,
 "nbformat_minor": 5
}
