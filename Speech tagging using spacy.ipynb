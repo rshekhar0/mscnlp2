{
 "cells": [
  {
   "cell_type": "code",
   "execution_count": null,
   "id": "0d1ef5b0-0b85-4afc-82b9-05daed80a7c3",
   "metadata": {},
   "outputs": [],
   "source": [
    "import spacy\n",
    "nlp = spacy.load(\"en_core_web_sm\")\n",
    " \n",
    "sp = spacy.load('en_core_web_sm')\n",
    "sen = sp(u\"I like to play cricket. I hated it in my childhood though\")\n",
    "print(sen.text)\n",
    "print(sen[7].pos_)\n",
    "print(sen[7].tag_)\n",
    "print(spacy.explain(sen[7].tag_))\n",
    " \n",
    "for word in sen:\n",
    "    print(f'{word.text:{12}} {word.pos_:{10}} {word.tag_:{8}} {spacy.explain(word.tag_)}')\n",
    " \n",
    "sen = sp(u'Can you google it?')\n",
    "word = sen[2]\n",
    "print(f'{word.text:{12}} {word.pos_:{10}} {word.tag_:{8}} {spacy.explain(word.tag_)}')\n",
    " \n",
    "sen = sp(u'Can you search it on google?')\n",
    "word = sen[5]\n",
    "print(f'{word.text:{12}} {word.pos_:{10}} {word.tag_:{8}} {spacy.explain(word.tag_)}')\n",
    " \n",
    "# Finding the Number of POS Tags\n",
    "sen = sp(u\"I like to play football. I hated it in my childhood though\")\n",
    "num_pos = sen.count_by(spacy.attrs.POS)\n",
    "for k, v in sorted(num_pos.items()):\n",
    "    print(f'{k}. {sen.vocab[k].text:{8}}: {v}')\n",
    " \n",
    "# Visualizing Parts of Speech Tags\n",
    "from spacy import displacy\n",
    "sen = sp(u\"I like to play football. I hated it in my childhood though\")\n",
    "displacy.serve(sen, style='dep', options={'distance': 120})\n",
    "#http://127.0.0.1:5000/. You will see the following dependency tree:"
   ]
  },
  {
   "cell_type": "code",
   "execution_count": null,
   "id": "5a959b4d-1b75-4406-afe4-27e8b65c342e",
   "metadata": {},
   "outputs": [],
   "source": []
  }
 ],
 "metadata": {
  "kernelspec": {
   "display_name": "Python 3 (ipykernel)",
   "language": "python",
   "name": "python3"
  },
  "language_info": {
   "codemirror_mode": {
    "name": "ipython",
    "version": 3
   },
   "file_extension": ".py",
   "mimetype": "text/x-python",
   "name": "python",
   "nbconvert_exporter": "python",
   "pygments_lexer": "ipython3",
   "version": "3.8.2"
  }
 },
 "nbformat": 4,
 "nbformat_minor": 5
}
