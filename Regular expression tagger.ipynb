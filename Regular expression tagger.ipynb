{
 "cells": [
  {
   "cell_type": "code",
   "execution_count": 1,
   "id": "bdf90427-7f40-45ac-bff5-07f39bae542f",
   "metadata": {},
   "outputs": [
    {
     "name": "stdout",
     "output_type": "stream",
     "text": [
      "<Regexp Tagger: size=9>\n",
      "[('The', 'AT'), ('Fulton', 'NN'), ('County', 'NN'), ('Grand', 'NN'), ('Jury', 'NN'), ('said', 'NN'), ('Friday', 'NN'), ('an', 'AT'), ('investigation', 'NN'), ('of', 'NN'), (\"Atlanta's\", 'NNS'), ('recent', 'NN'), ('primary', 'NN'), ('election', 'NN'), ('produced', 'VBD'), ('``', 'NN'), ('no', 'NN'), ('evidence', 'NN'), (\"''\", 'NN'), ('that', 'NN'), ('any', 'NN'), ('irregularities', 'NNS'), ('took', 'NN'), ('place', 'NN'), ('.', 'NN')]\n"
     ]
    }
   ],
   "source": [
    "from nltk.corpus import brown \n",
    "from nltk.tag import RegexpTagger \n",
    "test_sent = brown.sents(categories='news')[0] \n",
    "regexp_tagger = RegexpTagger( \n",
    "[(r'^-?[0-9]+(.[0-9]+)?$', 'CD'),   # cardinal numbers \n",
    "(r'(The|the|A|a|An|an)$', 'AT'),   # articles \n",
    "(r'.*able$', 'JJ'),      \n",
    "          # adjectives \n",
    "(r'.*ness$', 'NN'),        \n",
    "(r'.*ly$', 'RB'),            \n",
    "(r'.*s$', 'NNS'),           \n",
    "(r'.*ing$', 'VBG'),                \n",
    "(r'.*ed$', 'VBD'),        \n",
    "(r'.*', 'NN')                  \n",
    "        # nouns formed from adjectives \n",
    "      # adverbs \n",
    "       # plural nouns \n",
    "# gerunds \n",
    "         # past tense verbs \n",
    "    # nouns (default) \n",
    "]) \n",
    "print(regexp_tagger) \n",
    "print(regexp_tagger.tag(test_sent)) "
   ]
  },
  {
   "cell_type": "code",
   "execution_count": null,
   "id": "3ba7a44d-72ff-4f3b-b90d-e7ab3068e6e9",
   "metadata": {},
   "outputs": [],
   "source": []
  }
 ],
 "metadata": {
  "kernelspec": {
   "display_name": "Python 3 (ipykernel)",
   "language": "python",
   "name": "python3"
  },
  "language_info": {
   "codemirror_mode": {
    "name": "ipython",
    "version": 3
   },
   "file_extension": ".py",
   "mimetype": "text/x-python",
   "name": "python",
   "nbconvert_exporter": "python",
   "pygments_lexer": "ipython3",
   "version": "3.8.2"
  }
 },
 "nbformat": 4,
 "nbformat_minor": 5
}
