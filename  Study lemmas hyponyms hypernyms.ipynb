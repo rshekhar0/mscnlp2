{
 "cells": [
  {
   "cell_type": "code",
   "execution_count": 1,
   "id": "cde4d640-cad1-4fdf-9003-45e374439a98",
   "metadata": {},
   "outputs": [
    {
     "name": "stderr",
     "output_type": "stream",
     "text": [
      "[nltk_data] Downloading package wordnet to\n",
      "[nltk_data]     C:\\Users\\rshek\\AppData\\Roaming\\nltk_data...\n",
      "[nltk_data]   Package wordnet is already up-to-date!\n"
     ]
    },
    {
     "name": "stdout",
     "output_type": "stream",
     "text": [
      "\n",
      "**Lemmas**\n",
      "  * Synsets and Lemmas:\n",
      "      - Synset: Synset('computer.n.01') --> Lemmas: ['computer', 'computing_machine', 'computing_device', 'data_processor', 'electronic_computer', 'information_processing_system']\n",
      "      - Synset: Synset('calculator.n.01') --> Lemmas: ['calculator', 'reckoner', 'figurer', 'estimator', 'computer']\n",
      "\n",
      "**Hyponyms**\n",
      "  * Hyponyms of 'computer.n.01':\n",
      "      - Synset: Synset('analog_computer.n.01') --> Lemmas: ['analog_computer', 'analogue_computer']\n",
      "      - Synset: Synset('digital_computer.n.01') --> Lemmas: ['digital_computer']\n",
      "      - Synset: Synset('home_computer.n.01') --> Lemmas: ['home_computer']\n",
      "      - Synset: Synset('node.n.08') --> Lemmas: ['node', 'client', 'guest']\n",
      "      - Synset: Synset('number_cruncher.n.02') --> Lemmas: ['number_cruncher']\n",
      "      - Synset: Synset('pari-mutuel_machine.n.01') --> Lemmas: ['pari-mutuel_machine', 'totalizer', 'totaliser', 'totalizator', 'totalisator']\n",
      "      - Synset: Synset('predictor.n.03') --> Lemmas: ['predictor']\n",
      "      - Synset: Synset('server.n.03') --> Lemmas: ['server', 'host']\n",
      "      - Synset: Synset('turing_machine.n.01') --> Lemmas: ['Turing_machine']\n",
      "      - Synset: Synset('web_site.n.01') --> Lemmas: ['web_site', 'website', 'internet_site', 'site']\n",
      "\n",
      "**Hypernyms**\n",
      "  * Lowest common hypernym of 'vehicle' and 'car': Synset('vehicle.n.01')\n"
     ]
    }
   ],
   "source": [
    "import nltk\n",
    "from nltk.corpus import wordnet\n",
    "nltk.download('wordnet')\n",
    "\n",
    "print(\"\\n**Lemmas**\")\n",
    "synsets = wordnet.synsets(\"computer\")\n",
    "print(\"  * Synsets and Lemmas:\")\n",
    "for synset in synsets:\n",
    "    lemma_names = [lemma.name() for lemma in synset.lemmas()]\n",
    "    print(f\"      - Synset: {synset} --> Lemmas: {lemma_names}\")\n",
    "\n",
    "print(\"\\n**Hyponyms**\")\n",
    "computer_synset = wordnet.synset(\"computer.n.01\")\n",
    "hyponyms = computer_synset.hyponyms()\n",
    "print(\"  * Hyponyms of 'computer.n.01':\")\n",
    "for synset in hyponyms:\n",
    "    lemma_names = [lemma.name() for lemma in synset.lemmas()]\n",
    "    print(f\"      - Synset: {synset} --> Lemmas: {lemma_names}\")\n",
    "\n",
    "print(\"\\n**Hypernyms**\")\n",
    "vehicle_synset = wordnet.synset(\"vehicle.n.01\")\n",
    "car_synset = wordnet.synset(\"car.n.01\")\n",
    "lowest_common_hypernym = car_synset.lowest_common_hypernyms(vehicle_synset)\n",
    "print(f\"  * Lowest common hypernym of 'vehicle' and 'car': {lowest_common_hypernym[0]}\")\n"
   ]
  },
  {
   "cell_type": "code",
   "execution_count": null,
   "id": "4c3cbee8-7544-4482-b400-084a3ea990d1",
   "metadata": {},
   "outputs": [],
   "source": []
  }
 ],
 "metadata": {
  "kernelspec": {
   "display_name": "Python 3 (ipykernel)",
   "language": "python",
   "name": "python3"
  },
  "language_info": {
   "codemirror_mode": {
    "name": "ipython",
    "version": 3
   },
   "file_extension": ".py",
   "mimetype": "text/x-python",
   "name": "python",
   "nbconvert_exporter": "python",
   "pygments_lexer": "ipython3",
   "version": "3.8.2"
  }
 },
 "nbformat": 4,
 "nbformat_minor": 5
}
