{
 "cells": [
  {
   "cell_type": "code",
   "execution_count": 2,
   "id": "787af196-89ad-45d1-bb93-2b5aa422700e",
   "metadata": {},
   "outputs": [
    {
     "name": "stdout",
     "output_type": "stream",
     "text": [
      "Requirement already satisfied: gensim in c:\\program files\\python38\\lib\\site-packages (4.3.2)\n",
      "Requirement already satisfied: nltk in c:\\program files\\python38\\lib\\site-packages (3.8.1)\n",
      "Requirement already satisfied: numpy>=1.18.5 in c:\\program files\\python38\\lib\\site-packages (from gensim) (1.24.4)\n",
      "Requirement already satisfied: scipy>=1.7.0 in c:\\program files\\python38\\lib\\site-packages (from gensim) (1.10.1)\n",
      "Requirement already satisfied: smart-open>=1.8.1 in c:\\program files\\python38\\lib\\site-packages (from gensim) (6.4.0)\n",
      "Requirement already satisfied: click in c:\\program files\\python38\\lib\\site-packages (from nltk) (8.1.7)\n",
      "Requirement already satisfied: joblib in c:\\program files\\python38\\lib\\site-packages (from nltk) (1.3.2)\n",
      "Requirement already satisfied: regex>=2021.8.3 in c:\\program files\\python38\\lib\\site-packages (from nltk) (2023.12.25)\n",
      "Requirement already satisfied: tqdm in c:\\program files\\python38\\lib\\site-packages (from nltk) (4.65.0)\n",
      "Requirement already satisfied: colorama in c:\\program files\\python38\\lib\\site-packages (from click->nltk) (0.4.6)\n"
     ]
    },
    {
     "name": "stderr",
     "output_type": "stream",
     "text": [
      "\n",
      "[notice] A new release of pip is available: 24.1 -> 24.2\n",
      "[notice] To update, run: C:\\Program Files\\Python38\\python.exe -m pip install --upgrade pip\n"
     ]
    }
   ],
   "source": [
    "!pip install gensim nltk"
   ]
  },
  {
   "cell_type": "code",
   "execution_count": 3,
   "id": "c59674e9-5473-45c1-854e-1fc641158dc8",
   "metadata": {},
   "outputs": [
    {
     "name": "stdout",
     "output_type": "stream",
     "text": [
      "Harshad likes play cricket, fond basketball.\n",
      "frozenset({'nothing', 'therein', 'is', 'more', 'latter', 'them', 'amongst', 'behind', 'did', 'really', 'up', 'from', 'wherever', 'anyhow', 'also', 'yourself', 'due', 'was', 'mostly', 'amoungst', 'now', 'against', 'being', 'which', 'only', 'other', 'something', 'myself', 'either', 'who', 'all', 'otherwise', 'may', 'wherein', 'take', 'few', 'nobody', 'although', 'had', 'this', 'whether', 'us', 'whatever', 'sincere', 'bottom', 'regarding', 'interest', 'not', 'doesn', 'again', 'these', 'afterwards', 'hasnt', 'third', 'those', 'were', 'noone', 'onto', 'but', 'some', 'while', 'please', 'find', 'how', 'cannot', 'an', 'much', 'if', 'as', 'than', 'anything', 'side', 'found', 'top', 'former', 'my', 'call', 'here', 'by', 'so', 'together', 'you', 'it', 'hereupon', 'thereafter', 'whither', 'where', 'thereupon', 'whence', 'back', 'even', 'seem', 'along', 'say', 'eg', 'yours', 'neither', 'keep', 'should', 'our', 'what', 'didn', 'move', 'per', 'beforehand', 'have', 'first', 'every', 'thereby', 'thru', 'before', 'many', 'and', 'km', 'for', 'hence', 'seems', 'enough', 'cry', 'off', 'will', 'seemed', 'between', 'itself', 'doing', 'yourselves', 'fifteen', 'sometimes', 'are', 'whereafter', 'ie', 'whereas', 'whole', 'fifty', 'or', 'fill', 'among', 'has', 'a', 'whereby', 'becomes', 'themselves', 'forty', 'amount', 'been', 'couldnt', 'does', 'almost', 'himself', 'at', 'eight', 'why', 'hereby', 'name', 'too', 'everywhere', 'two', 'give', 'when', 'none', 'sometime', 'nevertheless', 'yet', 'through', 'hers', 'indeed', 'except', 'toward', 'we', 'rather', 'four', 'least', 'same', 'thick', 'part', 're', 'show', 'anywhere', 'de', 'less', 'becoming', 'unless', 'without', 'describe', 'could', 'can', 'con', 'whoever', 'next', 'to', 'very', 'each', 'thence', 'detail', 'ourselves', 'mill', 'thin', 'across', 'still', 'any', 'somehow', 'un', 'made', 'sixty', 'such', 'make', 'ours', 'perhaps', 'besides', 'see', 'often', 'co', 'its', 'empty', 'somewhere', 'throughout', 'three', 'elsewhere', 'during', 'the', 'own', 'everything', 'therefore', 'no', 'i', 'become', 'might', 'beside', 'various', 'done', 'five', 'namely', 'whose', 'nor', 'further', 'fire', 'front', 'used', 'thus', 'until', 'quite', 'in', 'get', 'computer', 'kg', 'then', 'someone', 'one', 'his', 'within', 'once', 'bill', 'just', 'last', 'under', 'after', 'whom', 'because', 'using', 'hereafter', 'whereupon', 'beyond', 'of', 'twelve', 'full', 'there', 'eleven', 'however', 'nowhere', 'moreover', 'another', 'cant', 'meanwhile', 'over', 'your', 'whenever', 'twenty', 'alone', 'on', 'most', 'nine', 'they', 'that', 'since', 'anyone', 'he', 'six', 'everyone', 'upon', 'herself', 'him', 'out', 'put', 'etc', 'ltd', 'around', 'into', 'would', 'don', 'well', 'serious', 'others', 'do', 'always', 'system', 'several', 'formerly', 'both', 'with', 'be', 'became', 'hundred', 'their', 'though', 'must', 'am', 'towards', 'herein', 'inc', 'seeming', 'ever', 'her', 'ten', 'above', 'down', 'me', 'mine', 'latterly', 'via', 'below', 'she', 'already', 'never', 'anyway', 'else', 'go', 'about'})\n",
      "['Harshad', 'cricket', ',', 'fond', 'basketball', '.']\n",
      "['Harshad', 'likes', 'play', 'cricket', ',', 'not', 'fond', 'basketball', '.']\n"
     ]
    },
    {
     "name": "stderr",
     "output_type": "stream",
     "text": [
      "[nltk_data] Downloading package punkt to\n",
      "[nltk_data]     C:\\Users\\rshek\\AppData\\Roaming\\nltk_data...\n",
      "[nltk_data]   Package punkt is already up-to-date!\n",
      "[nltk_data] Downloading package stopwords to\n",
      "[nltk_data]     C:\\Users\\rshek\\AppData\\Roaming\\nltk_data...\n",
      "[nltk_data]   Package stopwords is already up-to-date!\n"
     ]
    }
   ],
   "source": [
    "import gensim\n",
    "from gensim.parsing.preprocessing import remove_stopwords, STOPWORDS\n",
    "import nltk\n",
    "from nltk.tokenize import word_tokenize\n",
    "\n",
    "# Ensure necessary NLTK data is downloaded\n",
    "nltk.download('punkt')\n",
    "nltk.download('stopwords')\n",
    "\n",
    "text = \"Harshad likes to play cricket, however he is not too fond of basketball.\"\n",
    "filtered_sentence = remove_stopwords(text)\n",
    "print(filtered_sentence)\n",
    "\n",
    "all_stopwords = gensim.parsing.preprocessing.STOPWORDS\n",
    "print(all_stopwords)\n",
    "\n",
    "# The following script adds 'likes' and 'play' to the list of stop words in Gensim:\n",
    "all_stopwords_gensim= STOPWORDS.union(set(['likes', 'play']))\n",
    "\n",
    "text_tokens = word_tokenize(text)\n",
    "tokens_without_sw = [word for word in text_tokens if not word in all_stopwords_gensim]\n",
    "print(tokens_without_sw)\n",
    "\n",
    "# Output:\n",
    "#['Harshad', 'cricket', ',', 'fond', 'basketball', '.']\n",
    "\n",
    "# The following script removes the word \"not\" from the set of stop words in Gensim:\n",
    "sw_list = {\"not\"}\n",
    "all_stopwords_gensim = STOPWORDS.difference(sw_list)\n",
    "\n",
    "text_tokens = word_tokenize(text)\n",
    "tokens_without_sw = [word for word in text_tokens if not word in all_stopwords_gensim]\n",
    "print(tokens_without_sw)\n"
   ]
  },
  {
   "cell_type": "code",
   "execution_count": null,
   "id": "22dd5693-466e-4ab6-8681-681e10f83472",
   "metadata": {},
   "outputs": [],
   "source": []
  }
 ],
 "metadata": {
  "kernelspec": {
   "display_name": "Python 3 (ipykernel)",
   "language": "python",
   "name": "python3"
  },
  "language_info": {
   "codemirror_mode": {
    "name": "ipython",
    "version": 3
   },
   "file_extension": ".py",
   "mimetype": "text/x-python",
   "name": "python",
   "nbconvert_exporter": "python",
   "pygments_lexer": "ipython3",
   "version": "3.8.2"
  }
 },
 "nbformat": 4,
 "nbformat_minor": 5
}
