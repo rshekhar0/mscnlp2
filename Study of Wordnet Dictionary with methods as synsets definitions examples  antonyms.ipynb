{
 "cells": [
  {
   "cell_type": "code",
   "execution_count": 1,
   "id": "e0d4315a-b168-45bc-85ff-5c5dbf5f5a3d",
   "metadata": {},
   "outputs": [
    {
     "name": "stderr",
     "output_type": "stream",
     "text": [
      "[nltk_data] Downloading package wordnet to\n",
      "[nltk_data]     C:\\Users\\rshek\\AppData\\Roaming\\nltk_data...\n"
     ]
    },
    {
     "name": "stdout",
     "output_type": "stream",
     "text": [
      "**Word:** phone\n",
      "  * Synsets:\n",
      "      - Word: telephone\n",
      "        - Definition: electronic equipment that converts sound into electrical signals that can be transmitted over distances and then converts received signals back into sounds\n",
      "          - Examples: ['I talked to him on the telephone']\n",
      "      - Word: phone\n",
      "        - Definition: (phonetics) an individual sound unit of speech without concern as to whether or not it is a phoneme of some language\n",
      "          - Examples: []\n",
      "      - Word: earphone\n",
      "        - Definition: electro-acoustic transducer for converting electric signals into sounds; it is held over or inserted into the ear\n",
      "          - Examples: ['it was not the typing but the earphones that she disliked']\n",
      "      - Word: call\n",
      "        - Definition: get or try to get into communication (with someone) by telephone\n",
      "          - Examples: ['I tried to call you all night', 'Take two aspirin and call me in the morning']\n",
      "----------------------------------------\n",
      "\n",
      "**Antonyms for 'buy':\n",
      "  - sell\n"
     ]
    }
   ],
   "source": [
    "import nltk\n",
    "from nltk.corpus import wordnet\n",
    "nltk.download('wordnet')\n",
    "\n",
    "synsets = wordnet.synsets(\"phone\")\n",
    "print(\"**Word:** phone\")\n",
    "print(\"  * Synsets:\")\n",
    "\n",
    "for synset in synsets:\n",
    "    word = synset.lemmas()[0].name()\n",
    "    print(f\"      - Word: {word}\")\n",
    "    print(f\"        - Definition: {synset.definition()}\")\n",
    "    print(f\"          - Examples: {synset.examples()}\")\n",
    "print(\"-\"*40)\n",
    "antonyms = wordnet.lemma('buy.v.01.buy').antonyms()\n",
    "\n",
    "print(\"\\n**Antonyms for 'buy':\")\n",
    "for antonym in antonyms:\n",
    "    print(f\"  - {antonym.name()}\")\n"
   ]
  },
  {
   "cell_type": "code",
   "execution_count": null,
   "id": "2dacbfce-099c-4bbf-9993-6edbbf1311c2",
   "metadata": {},
   "outputs": [],
   "source": []
  }
 ],
 "metadata": {
  "kernelspec": {
   "display_name": "Python 3 (ipykernel)",
   "language": "python",
   "name": "python3"
  },
  "language_info": {
   "codemirror_mode": {
    "name": "ipython",
    "version": 3
   },
   "file_extension": ".py",
   "mimetype": "text/x-python",
   "name": "python",
   "nbconvert_exporter": "python",
   "pygments_lexer": "ipython3",
   "version": "3.8.2"
  }
 },
 "nbformat": 4,
 "nbformat_minor": 5
}
