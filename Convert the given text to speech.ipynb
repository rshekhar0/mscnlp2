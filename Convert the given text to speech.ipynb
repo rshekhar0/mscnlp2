{
 "cells": [
  {
   "cell_type": "code",
   "execution_count": 1,
   "id": "6419eb1a-2ebc-47e3-b8cc-8e8f69103764",
   "metadata": {},
   "outputs": [
    {
     "name": "stdout",
     "output_type": "stream",
     "text": [
      "Requirement already satisfied: gtts in c:\\program files\\python38\\lib\\site-packages (2.5.1)\n",
      "Requirement already satisfied: requests<3,>=2.27 in c:\\program files\\python38\\lib\\site-packages (from gtts) (2.31.0)\n",
      "Requirement already satisfied: click<8.2,>=7.1 in c:\\program files\\python38\\lib\\site-packages (from gtts) (8.1.7)\n",
      "Requirement already satisfied: colorama in c:\\program files\\python38\\lib\\site-packages (from click<8.2,>=7.1->gtts) (0.4.6)\n",
      "Requirement already satisfied: charset-normalizer<4,>=2 in c:\\program files\\python38\\lib\\site-packages (from requests<3,>=2.27->gtts) (3.2.0)\n",
      "Requirement already satisfied: idna<4,>=2.5 in c:\\program files\\python38\\lib\\site-packages (from requests<3,>=2.27->gtts) (3.6)\n",
      "Requirement already satisfied: urllib3<3,>=1.21.1 in c:\\program files\\python38\\lib\\site-packages (from requests<3,>=2.27->gtts) (2.2.1)\n",
      "Requirement already satisfied: certifi>=2017.4.17 in c:\\program files\\python38\\lib\\site-packages (from requests<3,>=2.27->gtts) (2023.7.22)\n"
     ]
    },
    {
     "name": "stderr",
     "output_type": "stream",
     "text": [
      "\n",
      "[notice] A new release of pip is available: 24.1 -> 24.2\n",
      "[notice] To update, run: C:\\Program Files\\Python38\\python.exe -m pip install --upgrade pip\n"
     ]
    }
   ],
   "source": [
    "!pip install gtts"
   ]
  },
  {
   "cell_type": "code",
   "execution_count": 5,
   "id": "ace90a40-f5d4-46aa-b89f-020e5822ca6e",
   "metadata": {},
   "outputs": [
    {
     "data": {
      "text/plain": [
       "1"
      ]
     },
     "execution_count": 5,
     "metadata": {},
     "output_type": "execute_result"
    }
   ],
   "source": [
    "from gtts import gTTS\n",
    "\n",
    "# This module is imported so that we can play the converted audio\n",
    "import os\n",
    "\n",
    "# The text that you want to convert to audio\n",
    "mytext = \"Hi, my name is Rahul, and I am a web developer with experience in creating dynamic and user-friendly websites\"\n",
    "\n",
    "# Language in which you want to convert\n",
    "language = \"en\"\n",
    "\n",
    "# Passing the text and language to the engine, here we have marked slow=False. Which tells the module that the converted audio should have a high speed\n",
    "myobj = gTTS(text=mytext, lang=language, slow=False)\n",
    "\n",
    "# Saving the converted audio in a mp3 file named welcome\n",
    "myobj.save(\"welcomeNK.mp3\")\n",
    "\n",
    "# Playing the converted file\n",
    "os.system(\"mpg321 welcomeNK.mp3\")\n"
   ]
  },
  {
   "cell_type": "code",
   "execution_count": null,
   "id": "0a5eada5-fa21-494c-9213-8653e6498d0b",
   "metadata": {},
   "outputs": [],
   "source": []
  }
 ],
 "metadata": {
  "kernelspec": {
   "display_name": "Python 3 (ipykernel)",
   "language": "python",
   "name": "python3"
  },
  "language_info": {
   "codemirror_mode": {
    "name": "ipython",
    "version": 3
   },
   "file_extension": ".py",
   "mimetype": "text/x-python",
   "name": "python",
   "nbconvert_exporter": "python",
   "pygments_lexer": "ipython3",
   "version": "3.8.2"
  }
 },
 "nbformat": 4,
 "nbformat_minor": 5
}
