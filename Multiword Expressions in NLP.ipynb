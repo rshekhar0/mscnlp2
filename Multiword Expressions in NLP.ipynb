{
 "cells": [
  {
   "cell_type": "code",
   "execution_count": 1,
   "id": "098c5aa3-20bf-47ec-b4f3-a94572bc0fb4",
   "metadata": {},
   "outputs": [
    {
     "name": "stdout",
     "output_type": "stream",
     "text": [
      "['Good', 'cake', 'cost', 'Rs.1500\\\\kg', 'in', 'Hong-Kong', '.']\n",
      "['Please', 'buy', 'me', 'one', 'of', 'them', '.']\n",
      "['Thanks', '.']\n"
     ]
    }
   ],
   "source": [
    "from nltk.tokenize import MWETokenizer\n",
    "from nltk import sent_tokenize, word_tokenize\n",
    "\n",
    "s = '''Good cake cost Rs.1500\\kg in Hong Kong. Please buy me one of them.\\n\\nThanks.'''\n",
    "mwe = MWETokenizer([('New', 'York'), ('Hong', 'Kong')], separator='-')\n",
    "\n",
    "for sent in sent_tokenize(s):\n",
    " print(mwe.tokenize(word_tokenize(sent)))\n"
   ]
  },
  {
   "cell_type": "code",
   "execution_count": null,
   "id": "3c5169f2-0fde-4f98-ba5d-7be4986ef7b4",
   "metadata": {},
   "outputs": [],
   "source": []
  }
 ],
 "metadata": {
  "kernelspec": {
   "display_name": "Python 3 (ipykernel)",
   "language": "python",
   "name": "python3"
  },
  "language_info": {
   "codemirror_mode": {
    "name": "ipython",
    "version": 3
   },
   "file_extension": ".py",
   "mimetype": "text/x-python",
   "name": "python",
   "nbconvert_exporter": "python",
   "pygments_lexer": "ipython3",
   "version": "3.8.2"
  }
 },
 "nbformat": 4,
 "nbformat_minor": 5
}
