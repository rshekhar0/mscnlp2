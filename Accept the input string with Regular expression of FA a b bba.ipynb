{
 "cells": [
  {
   "cell_type": "code",
   "execution_count": 1,
   "id": "eab356d2-52a1-440f-ab32-7d4800119fd4",
   "metadata": {},
   "outputs": [
    {
     "name": "stdout",
     "output_type": "stream",
     "text": [
      "Accepted\n",
      "Accepted\n",
      "Accepted\n",
      "Rejected\n",
      "Rejected\n",
      "Rejected\n",
      "Rejected\n"
     ]
    }
   ],
   "source": [
    "def FA(s):\n",
    "  size=0\n",
    "#scan complete string and make sure that it contains only 'a' & 'b'\n",
    "  for i in s:\n",
    "    if i=='a' or i=='b':\n",
    "      size+=1\n",
    "    else:\n",
    "      return \"Rejected\"\n",
    "#After checking that it contains only 'a' & 'b'\n",
    "#check it's length it should be 3 atleast\n",
    "  if size>=3:\n",
    "#check the last 3 elements\n",
    "    if s[size-3]=='b':\n",
    "      if s[size-2]=='b':\n",
    "        if s[size-1]=='a':\n",
    "          return \"Accepted\" # if all 4 if true\n",
    "        return \"Rejected\" # else of 4th if\n",
    "      return \"Rejected\" # else of 3rd if\n",
    "    return \"Rejected\" # else of 2nd if\n",
    "  return \"Rejected\" # else of 1st if\n",
    "\n",
    "inputs=['bba', 'ababbba', 'abba','abb', 'baba','bbb','']\n",
    "for i in inputs:\n",
    "  print(FA(i))\n"
   ]
  },
  {
   "cell_type": "code",
   "execution_count": null,
   "id": "3237eb90-de63-4522-863d-559a1401e8de",
   "metadata": {},
   "outputs": [],
   "source": []
  }
 ],
 "metadata": {
  "kernelspec": {
   "display_name": "Python 3 (ipykernel)",
   "language": "python",
   "name": "python3"
  },
  "language_info": {
   "codemirror_mode": {
    "name": "ipython",
    "version": 3
   },
   "file_extension": ".py",
   "mimetype": "text/x-python",
   "name": "python",
   "nbconvert_exporter": "python",
   "pygments_lexer": "ipython3",
   "version": "3.8.2"
  }
 },
 "nbformat": 4,
 "nbformat_minor": 5
}
