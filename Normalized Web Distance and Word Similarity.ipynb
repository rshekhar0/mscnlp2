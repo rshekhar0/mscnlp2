{
 "cells": [
  {
   "cell_type": "code",
   "execution_count": null,
   "id": "7aace6b7-938f-4ae0-ae1e-1a4e45246f79",
   "metadata": {},
   "outputs": [],
   "source": [
    "!pip install textdistance"
   ]
  },
  {
   "cell_type": "code",
   "execution_count": 7,
   "id": "3be1a019-33ea-415c-b445-d873eb21c91a",
   "metadata": {},
   "outputs": [
    {
     "name": "stdout",
     "output_type": "stream",
     "text": [
      "['reliance', 'reliance', 'reliance', 'reliance', 'reliance', 'reliance', 'mumbai', 'mumbai', 'mumbai', 'mumbai', 'km trading', 'km trading', 'km trading', 'km trading', 'km trading']\n"
     ]
    }
   ],
   "source": [
    "import numpy as np\n",
    "import re\n",
    "import textdistance  # pip install textdistance\n",
    "import sklearn  # pip install sklearn\n",
    "from sklearn.cluster import AgglomerativeClustering\n",
    "\n",
    "texts = ['Reliance supermarket', 'Reliance hypermarket', 'Reliance', 'Reliance', 'Reliance downtown', 'Reliance market','Mumbai', 'Mumbai Hyper', 'Mumbai dxb', 'mumbai airport','k.m trading', 'KM Trading', 'KM trade', 'K.M. Trading', 'KM.Trading']\n",
    "\n",
    "def normalize(text):\n",
    "    \"\"\"Keep only lower-cased text and numbers\"\"\"\n",
    "    return re.sub('[^a-z0-9]+', ' ', text.lower())\n",
    "\n",
    "def group_texts(texts, threshold=0.4):\n",
    "    \"\"\"Replace each text with the representative of its cluster\"\"\"\n",
    "    normalized_texts = np.array([normalize(text) for text in texts])\n",
    "    distances = 1 - np.array([\n",
    "        [textdistance.jaro_winkler(one, another) for one in normalized_texts]\n",
    "        for another in normalized_texts])\n",
    "    clustering = AgglomerativeClustering(\n",
    "        distance_threshold=threshold,\n",
    "        metric=\"precomputed\",  # Use `metric` instead of `affinity`\n",
    "        linkage=\"complete\",\n",
    "        n_clusters=None\n",
    "    ).fit(distances)\n",
    "    centers = dict()\n",
    "    for cluster_id in set(clustering.labels_):\n",
    "        index = clustering.labels_ == cluster_id\n",
    "        centrality = distances[:, index][index].sum(axis=1)\n",
    "        centers[cluster_id] = normalized_texts[index][centrality.argmin()]\n",
    "    return [centers[i] for i in clustering.labels_]\n",
    "\n",
    "print(group_texts(texts))\n"
   ]
  },
  {
   "cell_type": "code",
   "execution_count": null,
   "id": "5f673354-3513-4f8f-9917-9133f6a83282",
   "metadata": {},
   "outputs": [],
   "source": []
  }
 ],
 "metadata": {
  "kernelspec": {
   "display_name": "Python 3 (ipykernel)",
   "language": "python",
   "name": "python3"
  },
  "language_info": {
   "codemirror_mode": {
    "name": "ipython",
    "version": 3
   },
   "file_extension": ".py",
   "mimetype": "text/x-python",
   "name": "python",
   "nbconvert_exporter": "python",
   "pygments_lexer": "ipython3",
   "version": "3.8.2"
  }
 },
 "nbformat": 4,
 "nbformat_minor": 5
}
