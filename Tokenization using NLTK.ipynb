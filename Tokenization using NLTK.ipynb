{
 "cells": [
  {
   "cell_type": "code",
   "execution_count": 1,
   "id": "c6ea04e3-83cf-475a-a1b5-bc71b93449fb",
   "metadata": {},
   "outputs": [
    {
     "name": "stdout",
     "output_type": "stream",
     "text": [
      "============================================================\n",
      "Tokenization using NLTK\n",
      "----------\n",
      "Tokens: ['Hello', '!', 'My', 'name', 'is', 'Rahul', 'Yadav', 'I', 'live', 'in', 'mumbai']\n",
      "============================================================\n"
     ]
    },
    {
     "name": "stderr",
     "output_type": "stream",
     "text": [
      "[nltk_data] Downloading package punkt to\n",
      "[nltk_data]     C:\\Users\\rshek\\AppData\\Roaming\\nltk_data...\n",
      "[nltk_data]   Package punkt is already up-to-date!\n"
     ]
    }
   ],
   "source": [
    "import nltk\n",
    "from nltk.tokenize import word_tokenize\n",
    "\n",
    "nltk.download('punkt')\n",
    "\n",
    "# Sample text to tokenize\n",
    "text = \"Hello ! My name is Rahul Yadav I live in mumbai\"\n",
    "\n",
    "# Tokenizing the text using NLTK's word_tokenize()\n",
    "tokens = word_tokenize(text)\n",
    "\n",
    "# Printing the tokens\n",
    "print(\"=\"*60)\n",
    "print(\"Tokenization using NLTK\")\n",
    "print(\"-\"*10)\n",
    "print(\"Tokens:\", tokens)\n",
    "print(\"=\"*60)\n"
   ]
  },
  {
   "cell_type": "code",
   "execution_count": null,
   "id": "9e9545e4-0221-407a-8107-9b2c200d8765",
   "metadata": {},
   "outputs": [],
   "source": []
  }
 ],
 "metadata": {
  "kernelspec": {
   "display_name": "Python 3 (ipykernel)",
   "language": "python",
   "name": "python3"
  },
  "language_info": {
   "codemirror_mode": {
    "name": "ipython",
    "version": 3
   },
   "file_extension": ".py",
   "mimetype": "text/x-python",
   "name": "python",
   "nbconvert_exporter": "python",
   "pygments_lexer": "ipython3",
   "version": "3.8.2"
  }
 },
 "nbformat": 4,
 "nbformat_minor": 5
}
