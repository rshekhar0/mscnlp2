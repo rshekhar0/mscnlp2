{
 "cells": [
  {
   "cell_type": "code",
   "execution_count": 1,
   "id": "000afa59-b0ef-4df0-9265-2b8169e2e2a7",
   "metadata": {},
   "outputs": [
    {
     "name": "stdout",
     "output_type": "stream",
     "text": [
      "============================================================\n",
      "Tokenization using Regular Expressions (RegEx)\n",
      "----------\n",
      "Tokens: ['Hello', '!', 'My', 'name', 'is', 'Rahul', 'Yadav', 'I', 'live', 'in', 'mumbai']\n",
      "============================================================\n"
     ]
    }
   ],
   "source": [
    "import re\n",
    "\n",
    "# Sample text to tokenize\n",
    "text = \"Hello ! My name is Rahul Yadav I live in mumbai\"\n",
    "\n",
    "# Define the regex pattern for tokenization (splitting by whitespace)\n",
    "pattern = r'\\s+'\n",
    "\n",
    "# Tokenizing the text using re.split()\n",
    "tokens = re.split(pattern, text)\n",
    "\n",
    "# Printing the tokens\n",
    "print(\"=\"*60)\n",
    "print(\"Tokenization using Regular Expressions (RegEx)\")\n",
    "print(\"-\"*10)\n",
    "print(\"Tokens:\", tokens)\n",
    "print(\"=\"*60)\n"
   ]
  },
  {
   "cell_type": "code",
   "execution_count": null,
   "id": "50fd2395-bb91-4b63-8ab7-69a0c1395d9f",
   "metadata": {},
   "outputs": [],
   "source": []
  }
 ],
 "metadata": {
  "kernelspec": {
   "display_name": "Python 3 (ipykernel)",
   "language": "python",
   "name": "python3"
  },
  "language_info": {
   "codemirror_mode": {
    "name": "ipython",
    "version": 3
   },
   "file_extension": ".py",
   "mimetype": "text/x-python",
   "name": "python",
   "nbconvert_exporter": "python",
   "pygments_lexer": "ipython3",
   "version": "3.8.2"
  }
 },
 "nbformat": 4,
 "nbformat_minor": 5
}
