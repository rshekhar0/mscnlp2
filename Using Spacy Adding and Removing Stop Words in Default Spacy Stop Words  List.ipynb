{
 "cells": [
  {
   "cell_type": "code",
   "execution_count": null,
   "id": "9fa78727-068a-4311-9f26-67e2b4b87a35",
   "metadata": {},
   "outputs": [],
   "source": [
    "!pip install spacy \n",
    "!python -m spacy download en_core_web_sm \n",
    "!python -m spacy download en"
   ]
  },
  {
   "cell_type": "code",
   "execution_count": 1,
   "id": "a725c450-906d-4049-bd83-c52afb3e4a66",
   "metadata": {},
   "outputs": [
    {
     "name": "stdout",
     "output_type": "stream",
     "text": [
      "Using Spacy Adding and Removing Stop Words in Default Spacy Stop Words List\n",
      "Original sentence (tokens): ['Rahul', 'likes', 'to', 'play', 'Chess', ',', 'however', 'he', 'is', 'not', 'too', 'good', 'with', 'the', 'football', '.']\n",
      "Stop word 'play' added: ['Rahul', 'likes', 'Chess', ',', 'good', 'football', '.']\n",
      "Original sentence (tokens): ['Rahul', 'likes', 'to', 'play', 'Chess', ',', 'however', 'he', 'is', 'not', 'too', 'good', 'with', 'the', 'football', '.']\n",
      "Stop word 'not' removed: ['Rahul', 'likes', 'Chess', ',', 'not', 'good', 'football', '.']\n"
     ]
    }
   ],
   "source": [
    "import spacy\n",
    "import nltk\n",
    "from nltk.tokenize import word_tokenize\n",
    "\n",
    "print(\"Using Spacy Adding and Removing Stop Words in Default Spacy Stop Words List\")\n",
    "sp = spacy.load(\"en_core_web_sm\")\n",
    "\n",
    "# Get default stop words from spaCy\n",
    "all_stopwords = sp.Defaults.stop_words\n",
    "\n",
    "text = \"Rahul likes to play Chess, however he is not too good with the football.\"\n",
    "text_tokens = word_tokenize(text)\n",
    "\n",
    "# Adding 'play' to stop words\n",
    "all_stopwords.add(\"play\")\n",
    "tokens_without_sw = [word for word in text_tokens if word not in all_stopwords]\n",
    "print(\"Original sentence (tokens):\", text_tokens)\n",
    "print(\"Stop word 'play' added:\", tokens_without_sw)\n",
    "\n",
    "# Check if 'not' exists in stop words before removing\n",
    "if \"not\" in all_stopwords:\n",
    "    all_stopwords.remove(\"not\")\n",
    "else:\n",
    "    print(\"'not' is not in the stop words list.\")\n",
    "\n",
    "tokens_without_sw = [word for word in text_tokens if word not in all_stopwords]\n",
    "print(\"Original sentence (tokens):\", text_tokens)\n",
    "print(\"Stop word 'not' removed:\", tokens_without_sw)\n"
   ]
  },
  {
   "cell_type": "code",
   "execution_count": null,
   "id": "b11fdca7-109f-44de-8771-dae639c72b87",
   "metadata": {},
   "outputs": [],
   "source": []
  }
 ],
 "metadata": {
  "kernelspec": {
   "display_name": "Python 3 (ipykernel)",
   "language": "python",
   "name": "python3"
  },
  "language_info": {
   "codemirror_mode": {
    "name": "ipython",
    "version": 3
   },
   "file_extension": ".py",
   "mimetype": "text/x-python",
   "name": "python",
   "nbconvert_exporter": "python",
   "pygments_lexer": "ipython3",
   "version": "3.8.2"
  }
 },
 "nbformat": 4,
 "nbformat_minor": 5
}
