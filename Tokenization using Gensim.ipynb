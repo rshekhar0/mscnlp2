{
 "cells": [
  {
   "cell_type": "code",
   "execution_count": 1,
   "id": "2132750b-abfb-4960-ad4a-321342d88473",
   "metadata": {},
   "outputs": [
    {
     "name": "stdout",
     "output_type": "stream",
     "text": [
      "Requirement already satisfied: gensim in c:\\program files\\python38\\lib\\site-packages (4.3.2)\n",
      "Requirement already satisfied: numpy>=1.18.5 in c:\\program files\\python38\\lib\\site-packages (from gensim) (1.24.3)\n",
      "Requirement already satisfied: scipy>=1.7.0 in c:\\program files\\python38\\lib\\site-packages (from gensim) (1.10.1)\n",
      "Requirement already satisfied: smart-open>=1.8.1 in c:\\program files\\python38\\lib\\site-packages (from gensim) (6.4.0)\n"
     ]
    },
    {
     "name": "stderr",
     "output_type": "stream",
     "text": [
      "\n",
      "[notice] A new release of pip is available: 24.1 -> 24.2\n",
      "[notice] To update, run: C:\\Program Files\\Python38\\python.exe -m pip install --upgrade pip\n"
     ]
    }
   ],
   "source": [
    "!pip install gensim"
   ]
  },
  {
   "cell_type": "code",
   "execution_count": 2,
   "id": "9162fbd7-c2a3-4454-8254-dabe3980037e",
   "metadata": {},
   "outputs": [
    {
     "name": "stdout",
     "output_type": "stream",
     "text": [
      "============================================================\n",
      "Tokenization using Gensim\n",
      "----------\n",
      "Tokens: ['Hello', 'My', 'name', 'is', 'Rahul', 'Yadav', 'I', 'live', 'in', 'mumbai']\n",
      "============================================================\n"
     ]
    }
   ],
   "source": [
    "from gensim.utils import tokenize\n",
    "# Create a string input\n",
    "str = \"Hello ! My name is Rahul Yadav I live in mumbai\"\n",
    "# tokenizing the text\n",
    "# Tokenizing the text\n",
    "tokenized_words = list(tokenize(str))\n",
    "\n",
    "# Printing each tokenized word separately\n",
    "print(\"=\"*60)\n",
    "print(\"Tokenization using Gensim\")\n",
    "print(\"-\"*10)\n",
    "print(\"Tokens:\", tokenized_words)\n",
    "print(\"=\"*60)\n"
   ]
  },
  {
   "cell_type": "code",
   "execution_count": null,
   "id": "d79c456a-f950-40ee-acfb-182ce141e735",
   "metadata": {},
   "outputs": [],
   "source": []
  }
 ],
 "metadata": {
  "kernelspec": {
   "display_name": "Python 3 (ipykernel)",
   "language": "python",
   "name": "python3"
  },
  "language_info": {
   "codemirror_mode": {
    "name": "ipython",
    "version": 3
   },
   "file_extension": ".py",
   "mimetype": "text/x-python",
   "name": "python",
   "nbconvert_exporter": "python",
   "pygments_lexer": "ipython3",
   "version": "3.8.2"
  }
 },
 "nbformat": 4,
 "nbformat_minor": 5
}
