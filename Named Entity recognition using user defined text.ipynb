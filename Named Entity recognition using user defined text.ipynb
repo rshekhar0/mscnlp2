{
 "cells": [
  {
   "cell_type": "code",
   "execution_count": null,
   "id": "830a07f5-f4c0-4bd1-9219-6a0b7ddb492b",
   "metadata": {},
   "outputs": [],
   "source": [
    "!pip install -U spacy\n",
    "!python -m spacy download en_core_web_sm\n"
   ]
  },
  {
   "cell_type": "code",
   "execution_count": null,
   "id": "39fb066a-6516-4389-ae8f-972833c67412",
   "metadata": {},
   "outputs": [],
   "source": [
    "#python -m venv .venv"
   ]
  },
  {
   "cell_type": "code",
   "execution_count": 4,
   "id": "988d7a53-22ed-46da-a09a-67454490dc33",
   "metadata": {},
   "outputs": [
    {
     "name": "stdout",
     "output_type": "stream",
     "text": [
      "Noun phrases: ['Sebastian Thrun', 'self-driving cars', 'Google', 'few people', 'the company', 'him', 'I', 'you', 'very senior CEOs', 'major American car companies', 'my hand', 'I', 'Thrun', 'an interview', 'Recode']\n",
      "Verbs: ['start', 'work', 'drive', 'take', 'tell', 'shake', 'turn', 'talk', 'say']\n"
     ]
    }
   ],
   "source": [
    "import spacy\n",
    "\n",
    "nlp = spacy.load(\"en_core_web_sm\")\n",
    "\n",
    "# Process whole documents\n",
    "text = (\n",
    "    \"When Sebastian Thrun started working on self-driving cars at \"\n",
    "    \"Google in 2007, few people outside of the company took him \"\n",
    "    \"seriously. “I can tell you very senior CEOs of major American \"\n",
    "    \"car companies would shake my hand and turn away because I wasn’t \"\n",
    "    \"worth talking to,” said Thrun, in an interview with Recode earlier \"\n",
    "    \"this week.\"\n",
    ")\n",
    "doc = nlp(text)\n",
    "\n",
    "# Analyse syntax\n",
    "print(\"Noun phrases:\", [chunk.text for chunk in doc.noun_chunks])\n",
    "print(\"Verbs:\", [token.lemma_ for token in doc if token.pos_ == \"VERB\"])\n"
   ]
  },
  {
   "cell_type": "code",
   "execution_count": null,
   "id": "6a619f3d-1068-48b9-a3ae-b18654093c28",
   "metadata": {},
   "outputs": [],
   "source": []
  }
 ],
 "metadata": {
  "kernelspec": {
   "display_name": "Python 3 (ipykernel)",
   "language": "python",
   "name": "python3"
  },
  "language_info": {
   "codemirror_mode": {
    "name": "ipython",
    "version": 3
   },
   "file_extension": ".py",
   "mimetype": "text/x-python",
   "name": "python",
   "nbconvert_exporter": "python",
   "pygments_lexer": "ipython3",
   "version": "3.8.2"
  }
 },
 "nbformat": 4,
 "nbformat_minor": 5
}
