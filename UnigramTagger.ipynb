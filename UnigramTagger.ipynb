{
 "cells": [
  {
   "cell_type": "code",
   "execution_count": 1,
   "id": "297e0256-9782-40bf-b2bd-883df7cee695",
   "metadata": {},
   "outputs": [
    {
     "name": "stdout",
     "output_type": "stream",
     "text": [
      "['Pierre', 'Vinken', ',', '61', 'years', 'old', ',', 'will', 'join', 'the', 'board', 'as', 'a', 'nonexecutive', 'director', 'Nov.', '29', '.']\n",
      "\n",
      " [('Pierre', 'NNP'), ('Vinken', 'NNP'), (',', ','), ('61', 'CD'), ('years', 'NNS'), ('old', 'JJ'), (',', ','), ('will', 'MD'), ('join', 'VB'), ('the', 'DT'), ('board', 'NN'), ('as', 'IN'), ('a', 'DT'), ('nonexecutive', 'JJ'), ('director', 'NN'), ('Nov.', 'NNP'), ('29', 'CD'), ('.', '.')]\n",
      "\n",
      " [('Pierre', 'NN'), ('Vinken', None), (',', None), ('61', None), ('years', None), ('old', None), (',', None), ('will', None), ('join', None), ('the', None), ('board', None), ('as', None), ('a', None), ('nonexecutive', None), ('director', None), ('Nov.', None), ('29', None), ('.', None)]\n"
     ]
    }
   ],
   "source": [
    "# Loading Libraries \n",
    "from nltk.tag import UnigramTagger \n",
    "from nltk.corpus import treebank \n",
    "# Training using first 10 tagged sentences of the treebank corpus as data. \n",
    "# Using data \n",
    "train_sents = treebank.tagged_sents()[:10] \n",
    "# Initializing \n",
    "tagger = UnigramTagger(train_sents) \n",
    "# Lets see the first sentence  \n",
    "# (of the treebank corpus) as list    \n",
    "print(treebank.sents()[0]) \n",
    "print('\\n',tagger.tag(treebank.sents()[0])) \n",
    "#Finding the tagged results after training. \n",
    "tagger.tag(treebank.sents()[0]) \n",
    "#Overriding the context model \n",
    "tagger = UnigramTagger(model ={'Pierre': 'NN'}) \n",
    "print('\\n',tagger.tag(treebank.sents()[0])) "
   ]
  },
  {
   "cell_type": "code",
   "execution_count": null,
   "id": "b1ca12b1-9dee-427b-8f62-520c8ce639d5",
   "metadata": {},
   "outputs": [],
   "source": []
  }
 ],
 "metadata": {
  "kernelspec": {
   "display_name": "Python 3 (ipykernel)",
   "language": "python",
   "name": "python3"
  },
  "language_info": {
   "codemirror_mode": {
    "name": "ipython",
    "version": 3
   },
   "file_extension": ".py",
   "mimetype": "text/x-python",
   "name": "python",
   "nbconvert_exporter": "python",
   "pygments_lexer": "ipython3",
   "version": "3.8.2"
  }
 },
 "nbformat": 4,
 "nbformat_minor": 5
}
