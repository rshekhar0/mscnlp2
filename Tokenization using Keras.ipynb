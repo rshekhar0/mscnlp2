{
 "cells": [
  {
   "cell_type": "code",
   "execution_count": null,
   "id": "4ee8c1ad-c2e0-4f78-ac1a-16283e5b3ab4",
   "metadata": {},
   "outputs": [],
   "source": [
    "!pip install keras \n",
    "!pip install tensorflow "
   ]
  },
  {
   "cell_type": "code",
   "execution_count": 4,
   "id": "cbb9b563-71cb-4ece-858c-11e1a01477b9",
   "metadata": {},
   "outputs": [
    {
     "name": "stdout",
     "output_type": "stream",
     "text": [
      "============================================================\n",
      "Tokenization using Keras\n",
      "----------\n",
      "Tokens: ['hello', 'my', 'name', 'is', 'rahul', 'yadav', 'i', 'live', 'in', 'mira', 'road', 'east']\n",
      "============================================================\n"
     ]
    }
   ],
   "source": [
    "import keras\n",
    "\n",
    "from tensorflow.keras.preprocessing.text import text_to_word_sequence #works on colab\n",
    "\n",
    "# Create a string input\n",
    "str = \"Hello ! My name is Rahul Yadav I live in Mira Road East\"\n",
    "\n",
    "# tokenizing the text\n",
    "tokens = text_to_word_sequence(str)\n",
    "print(\"=\"*60)\n",
    "print(\"Tokenization using Keras\")\n",
    "print(\"-\"*10)\n",
    "print(\"Tokens:\", tokens)\n",
    "print(\"=\"*60)\n",
    "\n",
    "####\n",
    "# to run on local IDE(jupyter) use tenserflow version 2.13.0\n",
    "# pip uninstall tensorflow     ## to uninstall latest version if installed\n",
    "# pip install tensorflow==2.13.0\n",
    "####\n"
   ]
  },
  {
   "cell_type": "code",
   "execution_count": null,
   "id": "96422c61-bea6-4dca-81fc-0b1631f6b0cf",
   "metadata": {},
   "outputs": [],
   "source": []
  }
 ],
 "metadata": {
  "kernelspec": {
   "display_name": "Python 3 (ipykernel)",
   "language": "python",
   "name": "python3"
  },
  "language_info": {
   "codemirror_mode": {
    "name": "ipython",
    "version": 3
   },
   "file_extension": ".py",
   "mimetype": "text/x-python",
   "name": "python",
   "nbconvert_exporter": "python",
   "pygments_lexer": "ipython3",
   "version": "3.8.2"
  }
 },
 "nbformat": 4,
 "nbformat_minor": 5
}
