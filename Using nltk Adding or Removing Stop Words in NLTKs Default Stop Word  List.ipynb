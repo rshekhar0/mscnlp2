{
 "cells": [
  {
   "cell_type": "code",
   "execution_count": 2,
   "id": "549c3bb3-d017-4c50-8525-b1bec6fe6222",
   "metadata": {},
   "outputs": [
    {
     "name": "stdout",
     "output_type": "stream",
     "text": [
      "----------------------------------------\n",
      "Given Text:-  Rahul likes to play Chess, however he is not too good with the football.\n",
      "Tokens without stop words: ['Rahul', 'likes', 'play', 'Chess', ',', 'however', 'good', 'football', '.']\n",
      "\n",
      "Tokens without 'not' (custom stop word): ['Rahul', 'likes', 'play', 'Chess', ',', 'however', 'good', 'football', '.']\n"
     ]
    },
    {
     "name": "stderr",
     "output_type": "stream",
     "text": [
      "[nltk_data] Downloading package punkt to\n",
      "[nltk_data]     C:\\Users\\rshek\\AppData\\Roaming\\nltk_data...\n",
      "[nltk_data]   Package punkt is already up-to-date!\n",
      "[nltk_data] Downloading package stopwords to\n",
      "[nltk_data]     C:\\Users\\rshek\\AppData\\Roaming\\nltk_data...\n",
      "[nltk_data]   Package stopwords is already up-to-date!\n"
     ]
    }
   ],
   "source": [
    "import nltk\n",
    "from nltk.corpus import stopwords\n",
    "from nltk.tokenize import word_tokenize\n",
    "\n",
    "# Download stopwords (if not already downloaded)\n",
    "nltk.download('punkt')\n",
    "nltk.download('stopwords')\n",
    "\n",
    "print(\"-\"*40)\n",
    "\n",
    "# Sample text\n",
    "text = \"Rahul likes to play Chess, however he is not too good with the football.\"\n",
    "print(\"Given Text:- \",text)\n",
    "# Remove stop words from text\n",
    "text_tokens = word_tokenize(text)\n",
    "stop_words = stopwords.words('english')\n",
    "tokens_without_sw = [word for word in text_tokens if word not in stop_words]\n",
    "print(\"Tokens without stop words:\", tokens_without_sw)\n",
    "\n",
    "# Add custom stop word ('not')\n",
    "custom_stop_words = stop_words + ['not']\n",
    "tokens_without_sw = [word for word in text_tokens if word not in custom_stop_words]\n",
    "print(\"\\nTokens without 'not' (custom stop word):\", tokens_without_sw)\n"
   ]
  },
  {
   "cell_type": "code",
   "execution_count": null,
   "id": "f4e20678-da77-4130-901d-c8c5de22d4fe",
   "metadata": {},
   "outputs": [],
   "source": []
  }
 ],
 "metadata": {
  "kernelspec": {
   "display_name": "Python 3 (ipykernel)",
   "language": "python",
   "name": "python3"
  },
  "language_info": {
   "codemirror_mode": {
    "name": "ipython",
    "version": 3
   },
   "file_extension": ".py",
   "mimetype": "text/x-python",
   "name": "python",
   "nbconvert_exporter": "python",
   "pygments_lexer": "ipython3",
   "version": "3.8.2"
  }
 },
 "nbformat": 4,
 "nbformat_minor": 5
}
