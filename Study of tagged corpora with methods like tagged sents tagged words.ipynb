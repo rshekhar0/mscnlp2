{
 "cells": [
  {
   "cell_type": "code",
   "execution_count": 20,
   "id": "739fe3cf-9324-4e1c-ac7a-96af2c9626da",
   "metadata": {},
   "outputs": [
    {
     "name": "stdout",
     "output_type": "stream",
     "text": [
      "\n",
      "Sentence tokenization\n",
      "===================\n",
      " ['Hello!', 'My name is Rahul.', \"Today you'll be learning NLTK.\"]\n",
      "\n",
      "Word tokenization\n",
      "===================\n",
      "\n",
      "['Hello', '!']\n",
      "['My', 'name', 'is', 'Rahul', '.']\n",
      "['Today', 'you', \"'ll\", 'be', 'learning', 'NLTK', '.']\n"
     ]
    },
    {
     "name": "stderr",
     "output_type": "stream",
     "text": [
      "[nltk_data] Downloading package punkt to\n",
      "[nltk_data]     C:\\Users\\rshek\\AppData\\Roaming\\nltk_data...\n",
      "[nltk_data]   Package punkt is already up-to-date!\n",
      "[nltk_data] Downloading package words to\n",
      "[nltk_data]     C:\\Users\\rshek\\AppData\\Roaming\\nltk_data...\n",
      "[nltk_data]   Package words is already up-to-date!\n"
     ]
    }
   ],
   "source": [
    "import nltk\n",
    "from nltk import tokenize\n",
    "\n",
    "# Download the necessary NLTK data\n",
    "nltk.download('punkt')\n",
    "nltk.download('words')\n",
    "\n",
    "# Paragraph to tokenize\n",
    "para = \"Hello! My name is Rahul. Today you'll be learning NLTK.\"\n",
    "\n",
    "# Sentence tokenization\n",
    "sents = tokenize.sent_tokenize(para)\n",
    "print(\"\\nSentence tokenization\\n===================\\n\", sents)\n",
    "\n",
    "# Word tokenization\n",
    "print(\"\\nWord tokenization\\n===================\\n\")\n",
    "for index in range(len(sents)):\n",
    "    words = tokenize.word_tokenize(sents[index])\n",
    "    print(words)\n"
   ]
  },
  {
   "cell_type": "code",
   "execution_count": null,
   "id": "d8651aaa-9d73-4486-a52b-46e2df03a92c",
   "metadata": {},
   "outputs": [],
   "source": []
  }
 ],
 "metadata": {
  "kernelspec": {
   "display_name": "Python 3 (ipykernel)",
   "language": "python",
   "name": "python3"
  },
  "language_info": {
   "codemirror_mode": {
    "name": "ipython",
    "version": 3
   },
   "file_extension": ".py",
   "mimetype": "text/x-python",
   "name": "python",
   "nbconvert_exporter": "python",
   "pygments_lexer": "ipython3",
   "version": "3.8.2"
  }
 },
 "nbformat": 4,
 "nbformat_minor": 5
}
