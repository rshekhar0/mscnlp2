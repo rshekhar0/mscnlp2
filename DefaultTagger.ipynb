{
 "cells": [
  {
   "cell_type": "code",
   "execution_count": 3,
   "id": "5e0b1edd-0df7-44df-8ab5-975139a87fd9",
   "metadata": {},
   "outputs": [
    {
     "name": "stderr",
     "output_type": "stream",
     "text": [
      "[nltk_data] Downloading package treebank to\n",
      "[nltk_data]     C:\\Users\\rshek\\AppData\\Roaming\\nltk_data...\n",
      "[nltk_data]   Package treebank is already up-to-date!\n",
      "C:\\Users\\rshek\\AppData\\Local\\Temp\\ipykernel_13564\\2969685433.py:13: DeprecationWarning: \n",
      "  Function evaluate() has been deprecated.  Use accuracy(gold)\n",
      "  instead.\n",
      "  evaluation_score = exptagger.evaluate(testsentences)\n"
     ]
    },
    {
     "name": "stdout",
     "output_type": "stream",
     "text": [
      "Evaluation Score: 0.13198749536374715\n",
      "\n",
      "Tagged Sentences:\n",
      " [[('Hi', 'NN'), (',', 'NN')], [('How', 'NN'), ('are', 'NN'), ('you', 'NN'), ('?', 'NN')]]\n"
     ]
    }
   ],
   "source": [
    "import nltk\n",
    "from nltk.tag import DefaultTagger\n",
    "from nltk.corpus import treebank\n",
    "\n",
    "# Download necessary NLTK data\n",
    "nltk.download('treebank')\n",
    "\n",
    "# Initialize the DefaultTagger with 'NN' (Noun) as the default tag\n",
    "exptagger = DefaultTagger('NN')\n",
    "\n",
    "# Load and evaluate the tagger on the test sentences from the Treebank corpus\n",
    "testsentences = treebank.tagged_sents()[1000:]\n",
    "evaluation_score = exptagger.evaluate(testsentences)\n",
    "print(\"Evaluation Score:\", evaluation_score)\n",
    "\n",
    "# Tagging a list of sentences\n",
    "sentences = [['Hi', ','], ['How', 'are', 'you', '?']]\n",
    "tagged_sentences = exptagger.tag_sents(sentences)\n",
    "print(\"\\nTagged Sentences:\\n\", tagged_sentences)\n"
   ]
  },
  {
   "cell_type": "code",
   "execution_count": null,
   "id": "e47b4641-db2a-465b-910e-b5239acab4c5",
   "metadata": {},
   "outputs": [],
   "source": []
  }
 ],
 "metadata": {
  "kernelspec": {
   "display_name": "Python 3 (ipykernel)",
   "language": "python",
   "name": "python3"
  },
  "language_info": {
   "codemirror_mode": {
    "name": "ipython",
    "version": 3
   },
   "file_extension": ".py",
   "mimetype": "text/x-python",
   "name": "python",
   "nbconvert_exporter": "python",
   "pygments_lexer": "ipython3",
   "version": "3.8.2"
  }
 },
 "nbformat": 4,
 "nbformat_minor": 5
}
