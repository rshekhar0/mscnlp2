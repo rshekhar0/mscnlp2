{
 "cells": [
  {
   "cell_type": "code",
   "execution_count": 1,
   "id": "7c18c617-2ee9-4784-9cce-4cefe956175f",
   "metadata": {},
   "outputs": [
    {
     "name": "stdout",
     "output_type": "stream",
     "text": [
      "============================================================\n",
      "Tokenization using the spaCy library\n",
      "----------\n",
      "Tokens: ['Hello', '!', 'My', 'name', 'is', 'Rahul', 'Yadav', 'I', 'live', 'in', 'mumbai']\n",
      "============================================================\n"
     ]
    }
   ],
   "source": [
    "import spacy\n",
    "\n",
    "# Load the English language model\n",
    "nlp = spacy.blank(\"en\")\n",
    "\n",
    "# Text to be tokenized\n",
    "text = \"Hello ! My name is Rahul Yadav I live in mumbai\"\n",
    "\n",
    "# Process the text with SpaCy\n",
    "doc = nlp(text)\n",
    "\n",
    "# Extract tokens\n",
    "tokens = [token.text for token in doc]\n",
    "\n",
    "# Print tokens\n",
    "print(\"=\"*60)\n",
    "print(\"Tokenization using the spaCy library\")\n",
    "print(\"-\"*10)\n",
    "print(\"Tokens:\", tokens)\n",
    "print(\"=\"*60)\n"
   ]
  },
  {
   "cell_type": "code",
   "execution_count": null,
   "id": "b4890b37-ce15-48ee-918a-473bf027b268",
   "metadata": {},
   "outputs": [],
   "source": []
  }
 ],
 "metadata": {
  "kernelspec": {
   "display_name": "Python 3 (ipykernel)",
   "language": "python",
   "name": "python3"
  },
  "language_info": {
   "codemirror_mode": {
    "name": "ipython",
    "version": 3
   },
   "file_extension": ".py",
   "mimetype": "text/x-python",
   "name": "python",
   "nbconvert_exporter": "python",
   "pygments_lexer": "ipython3",
   "version": "3.8.2"
  }
 },
 "nbformat": 4,
 "nbformat_minor": 5
}
