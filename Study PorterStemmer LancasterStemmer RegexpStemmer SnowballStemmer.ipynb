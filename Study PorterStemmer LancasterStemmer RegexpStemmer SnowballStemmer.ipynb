{
 "cells": [
  {
   "cell_type": "code",
   "execution_count": 3,
   "id": "969646da-32ac-4d64-8551-39f77836c566",
   "metadata": {},
   "outputs": [
    {
     "name": "stdout",
     "output_type": "stream",
     "text": [
      "Output of PorterStemmer:-\n",
      "rahul is run\n",
      "**************************************************\n",
      "Output of LancasterStemmer:-\n",
      "jump\n",
      "**************************************************\n",
      "Output of RegexpStemmer:-\n",
      "writ\n",
      "**************************************************\n",
      "Output of SnowballStemmer:-\n",
      "write\n",
      "**************************************************\n"
     ]
    }
   ],
   "source": [
    "# PorterStemmer\n",
    "import nltk\n",
    "from nltk.stem import PorterStemmer\n",
    "word_stemmer = PorterStemmer()\n",
    "print(\"Output of PorterStemmer:-\")\n",
    "print(word_stemmer.stem('Rahul is running'))\n",
    "print(\"*\"*50)\n",
    "# LancasterStemmer\n",
    "import nltk\n",
    "from nltk.stem import LancasterStemmer\n",
    "Lanc_stemmer = LancasterStemmer()\n",
    "print(\"Output of LancasterStemmer:-\")\n",
    "print(Lanc_stemmer.stem('jumping'))\n",
    "print(\"*\"*50)\n",
    "#RegexpStemmer\n",
    "import nltk\n",
    "from nltk.stem import RegexpStemmer\n",
    "Reg_stemmer = RegexpStemmer('ing$|s$|e$|able$', min=4)\n",
    "print(\"Output of RegexpStemmer:-\")\n",
    "print(Reg_stemmer.stem('writing'))\n",
    "print(\"*\"*50)\n",
    "# SnowballStemmer\n",
    "import nltk\n",
    "from nltk.stem import SnowballStemmer\n",
    "english_stemmer = SnowballStemmer('english')\n",
    "print(\"Output of SnowballStemmer:-\")\n",
    "print(english_stemmer.stem ('writing'))\n",
    "print(\"*\"*50)\n"
   ]
  },
  {
   "cell_type": "code",
   "execution_count": null,
   "id": "539a8ce5-05c2-4471-b488-28fbe7fa32ae",
   "metadata": {},
   "outputs": [],
   "source": []
  }
 ],
 "metadata": {
  "kernelspec": {
   "display_name": "Python 3 (ipykernel)",
   "language": "python",
   "name": "python3"
  },
  "language_info": {
   "codemirror_mode": {
    "name": "ipython",
    "version": 3
   },
   "file_extension": ".py",
   "mimetype": "text/x-python",
   "name": "python",
   "nbconvert_exporter": "python",
   "pygments_lexer": "ipython3",
   "version": "3.8.2"
  }
 },
 "nbformat": 4,
 "nbformat_minor": 5
}
