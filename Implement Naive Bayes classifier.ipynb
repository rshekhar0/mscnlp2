{
 "cells": [
  {
   "cell_type": "code",
   "execution_count": null,
   "id": "b8d4a6d4-d410-4a4a-8e7d-d30550103c65",
   "metadata": {},
   "outputs": [],
   "source": [
    "!pip install pandas\n",
    "!pip install sklearn\n"
   ]
  },
  {
   "cell_type": "code",
   "execution_count": 12,
   "id": "2064370c-7ca8-47c5-939a-5e7049a6307d",
   "metadata": {},
   "outputs": [
    {
     "name": "stderr",
     "output_type": "stream",
     "text": [
      "[nltk_data] Downloading package stopwords to\n",
      "[nltk_data]     C:\\Users\\rshek\\AppData\\Roaming\\nltk_data...\n",
      "[nltk_data]   Package stopwords is already up-to-date!\n"
     ]
    },
    {
     "name": "stdout",
     "output_type": "stream",
     "text": [
      "Index(['v1', 'v2', 'Unnamed: 2', 'Unnamed: 3', 'Unnamed: 4'], dtype='object')\n",
      "     v1                                                 v2 Unnamed: 2  \\\n",
      "0   ham  Go until jurong point, crazy.. Available only ...        NaN   \n",
      "1   ham                      Ok lar... Joking wif u oni...        NaN   \n",
      "2  spam  Free entry in 2 a wkly comp to win FA Cup fina...        NaN   \n",
      "3   ham  U dun say so early hor... U c already then say...        NaN   \n",
      "4   ham  Nah I don't think he goes to usf, he lives aro...        NaN   \n",
      "\n",
      "  Unnamed: 3 Unnamed: 4  \n",
      "0        NaN        NaN  \n",
      "1        NaN        NaN  \n",
      "2        NaN        NaN  \n",
      "3        NaN        NaN  \n",
      "4        NaN        NaN  \n",
      "[[0 0 0 ... 0 0 0]\n",
      " [0 0 0 ... 0 0 0]\n",
      " [0 0 0 ... 0 0 0]\n",
      " ...\n",
      " [0 0 0 ... 0 0 0]\n",
      " [0 0 0 ... 0 0 0]\n",
      " [0 0 0 ... 0 0 0]]\n",
      "['ham' 'ham' 'spam' ... 'ham' 'ham' 'ham']\n",
      "['ham' 'ham' 'ham' ... 'ham' 'ham' 'ham']\n",
      "              precision    recall  f1-score   support\n",
      "\n",
      "         ham       0.99      0.98      0.99      1448\n",
      "        spam       0.89      0.92      0.91       224\n",
      "\n",
      "    accuracy                           0.97      1672\n",
      "   macro avg       0.94      0.95      0.95      1672\n",
      "weighted avg       0.98      0.97      0.98      1672\n",
      "\n",
      "accuracy_score:  0.9748803827751196\n"
     ]
    }
   ],
   "source": [
    "import pandas as pd\n",
    "import numpy as np\n",
    "import re\n",
    "import nltk\n",
    "from nltk.corpus import stopwords\n",
    "from nltk.stem.porter import PorterStemmer\n",
    "from sklearn.feature_extraction.text import CountVectorizer\n",
    "from sklearn.model_selection import train_test_split\n",
    "from sklearn.naive_bayes import MultinomialNB\n",
    "from sklearn.metrics import classification_report, confusion_matrix, accuracy_score\n",
    "\n",
    "nltk.download('stopwords')\n",
    "\n",
    "# Load dataset\n",
    "sms_data = pd.read_csv(\"dataset/spam.csv\", encoding='latin-1')\n",
    "\n",
    "# Debug: Print column names and first few rows to inspect data\n",
    "print(sms_data.columns)\n",
    "print(sms_data.head())\n",
    "\n",
    "# Initialize Porter Stemmer\n",
    "stemming = PorterStemmer()\n",
    "\n",
    "# Initialize an empty list to store processed text\n",
    "corpus = []\n",
    "\n",
    "# Process each text message in 'v2' column\n",
    "for i in range(len(sms_data)):\n",
    "    s1 = re.sub('[^a-zA-Z]', ' ', sms_data['v2'][i])\n",
    "    s1 = s1.lower()\n",
    "    s1 = s1.split()\n",
    "    s1 = [stemming.stem(word) for word in s1 if word not in set(stopwords.words('english'))]\n",
    "    s1 = ' '.join(s1)\n",
    "    corpus.append(s1)\n",
    "\n",
    "# Use CountVectorizer to convert text data to vectors\n",
    "countvectorizer = CountVectorizer()\n",
    "x = countvectorizer.fit_transform(corpus).toarray()\n",
    "print(x)\n",
    "\n",
    "# Define target variable\n",
    "y = sms_data['v1'].values\n",
    "print(y)\n",
    "\n",
    "# Split data into training and test sets\n",
    "x_train, x_test, y_train, y_test = train_test_split(x, y, test_size=0.3, stratify=y, random_state=2)\n",
    "\n",
    "# Initialize Multinomial Naive Bayes classifier\n",
    "multinomialnb = MultinomialNB()\n",
    "multinomialnb.fit(x_train, y_train)\n",
    "\n",
    "# Predict using the classifier\n",
    "y_pred = multinomialnb.predict(x_test)\n",
    "print(y_pred)\n",
    "\n",
    "# Print classification report and accuracy score\n",
    "print(classification_report(y_test, y_pred))\n",
    "print(\"accuracy_score: \", accuracy_score(y_test, y_pred))\n"
   ]
  },
  {
   "cell_type": "code",
   "execution_count": null,
   "id": "bc71455f-a193-4054-b663-e0267228df60",
   "metadata": {},
   "outputs": [],
   "source": []
  },
  {
   "cell_type": "code",
   "execution_count": null,
   "id": "794d5148-bc3f-4ef4-be92-157be6ebee7a",
   "metadata": {},
   "outputs": [],
   "source": []
  }
 ],
 "metadata": {
  "kernelspec": {
   "display_name": "Python 3 (ipykernel)",
   "language": "python",
   "name": "python3"
  },
  "language_info": {
   "codemirror_mode": {
    "name": "ipython",
    "version": 3
   },
   "file_extension": ".py",
   "mimetype": "text/x-python",
   "name": "python",
   "nbconvert_exporter": "python",
   "pygments_lexer": "ipython3",
   "version": "3.8.2"
  }
 },
 "nbformat": 4,
 "nbformat_minor": 5
}
